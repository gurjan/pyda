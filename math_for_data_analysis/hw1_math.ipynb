{
  "nbformat": 4,
  "nbformat_minor": 0,
  "metadata": {
    "colab": {
      "provenance": [],
      "authorship_tag": "ABX9TyNqknTLSDcd8qCVDS//6gH/",
      "include_colab_link": true
    },
    "kernelspec": {
      "name": "python3",
      "display_name": "Python 3"
    },
    "language_info": {
      "name": "python"
    }
  },
  "cells": [
    {
      "cell_type": "markdown",
      "metadata": {
        "id": "view-in-github",
        "colab_type": "text"
      },
      "source": [
        "<a href=\"https://colab.research.google.com/github/gurjan/pyda/blob/main/math_for_data_analysis/hw1_math.ipynb\" target=\"_parent\"><img src=\"https://colab.research.google.com/assets/colab-badge.svg\" alt=\"Open In Colab\"/></a>"
      ]
    },
    {
      "cell_type": "code",
      "source": [
        "import numpy as np\n",
        "import sympy as sym"
      ],
      "metadata": {
        "id": "SFfY5peUa-yO"
      },
      "execution_count": null,
      "outputs": []
    },
    {
      "cell_type": "markdown",
      "source": [
        "Представим фильмы в виде бинарных векторов (numpy array) используя следующие признаки:\n",
        "\n",
        "[Комедия, Боевик, Исторический, Бред Питт, Бенедикт Камбербэтч, Квентин Тарантино]\n",
        "\n"
      ],
      "metadata": {
        "id": "VAHk7luHazCz"
      }
    },
    {
      "cell_type": "code",
      "execution_count": null,
      "metadata": {
        "id": "Dhplt_G1Wmst"
      },
      "outputs": [],
      "source": [
        "film_1 = np.array([0,0,0,0,1,0])      # Игра в имитацию\n",
        "\n",
        "film_2 = np.array([0,1,0,1,0,0])      # Ярость\n",
        "\n",
        "film_3 = np.array([0,0,1,1,1,0])      # 12 лет рабства\n",
        "\n",
        "film_4 = np.array([1,0,0,1,0,1])      # Однажды в Голливуде"
      ]
    },
    {
      "cell_type": "markdown",
      "source": [
        "# Уровень 0:\n",
        "## Задание 1\n",
        "Найти угол между векторами-фильмами \"Ярость\" и \"12 лет рабства\". Результатом будет являться косинусная мера, которую можно использовать для определения похожести векторов."
      ],
      "metadata": {
        "id": "zU2QLbh_a7E3"
      }
    },
    {
      "cell_type": "code",
      "source": [
        "# скалярное произведение (сумм покоординатных сложений)\n",
        "np.dot(film_2, film_3)"
      ],
      "metadata": {
        "colab": {
          "base_uri": "https://localhost:8080/"
        },
        "id": "UzG0Mo_kbcyC",
        "outputId": "fabdf5d4-4473-490b-aad5-12099e805273"
      },
      "execution_count": null,
      "outputs": [
        {
          "output_type": "execute_result",
          "data": {
            "text/plain": [
              "1"
            ]
          },
          "metadata": {},
          "execution_count": 59
        }
      ]
    },
    {
      "cell_type": "code",
      "source": [
        "# найдем угол между векторами исходя из определения скалярного произведения \n",
        "# для начала находим Евклидову норму для каждого из векторов\n",
        "np.linalg.norm(film_2)*np.linalg.norm(film_3)"
      ],
      "metadata": {
        "colab": {
          "base_uri": "https://localhost:8080/"
        },
        "id": "5ldid8Hwcj7X",
        "outputId": "8442581a-cccc-4260-c0da-b45c28fcefb2"
      },
      "execution_count": null,
      "outputs": [
        {
          "output_type": "execute_result",
          "data": {
            "text/plain": [
              "2.4494897427831783"
            ]
          },
          "metadata": {},
          "execution_count": 60
        }
      ]
    },
    {
      "cell_type": "code",
      "source": [
        "# делим скарярное произведение на Евклидову норму, получаем косинус угла между векторами\n",
        "np.dot(film_2, film_3)/(np.linalg.norm(film_2)*np.linalg.norm(film_3))"
      ],
      "metadata": {
        "colab": {
          "base_uri": "https://localhost:8080/"
        },
        "id": "hyoOPFNQdJLb",
        "outputId": "9ee30074-7b64-4fd3-f9dd-0ec0af7c51d2"
      },
      "execution_count": null,
      "outputs": [
        {
          "output_type": "execute_result",
          "data": {
            "text/plain": [
              "0.40824829046386296"
            ]
          },
          "metadata": {},
          "execution_count": 61
        }
      ]
    },
    {
      "cell_type": "code",
      "source": [
        "# косинус ковертируем в величину угла - в радианах \n",
        "np.arccos(np.dot(film_2, film_3)/(np.linalg.norm(film_2)*np.linalg.norm(film_3)))"
      ],
      "metadata": {
        "colab": {
          "base_uri": "https://localhost:8080/"
        },
        "id": "Ofj1C_uLeD2q",
        "outputId": "373dd6af-67c7-4f9c-b0ba-bde8eb33b708"
      },
      "execution_count": null,
      "outputs": [
        {
          "output_type": "execute_result",
          "data": {
            "text/plain": [
              "1.1502619915109316"
            ]
          },
          "metadata": {},
          "execution_count": 62
        }
      ]
    },
    {
      "cell_type": "code",
      "source": [
        "# ковертируем в градусы\n",
        "np.rad2deg(np.arccos(np.dot(film_2, film_3)/(np.linalg.norm(film_2)*np.linalg.norm(film_3))))"
      ],
      "metadata": {
        "colab": {
          "base_uri": "https://localhost:8080/"
        },
        "id": "tDmSCqJnedjA",
        "outputId": "f35f8e3a-087d-4682-8cca-f13376f6f905"
      },
      "execution_count": null,
      "outputs": [
        {
          "output_type": "execute_result",
          "data": {
            "text/plain": [
              "65.90515744788931"
            ]
          },
          "metadata": {},
          "execution_count": 63
        }
      ]
    },
    {
      "cell_type": "markdown",
      "source": [
        "Угол между векторами равен 65.91 градусам"
      ],
      "metadata": {
        "id": "cWm1Q3bgfbJF"
      }
    },
    {
      "cell_type": "markdown",
      "source": [
        "# Уровень 1:\n",
        "## Задание 2\n",
        "Вычислить с помощью Python значение первой производной для функции  в точке x=1"
      ],
      "metadata": {
        "id": "VEv-MRXufyr8"
      }
    },
    {
      "cell_type": "code",
      "source": [
        "# определяем какие параметры являются аналитическими\n",
        "x=sym.Symbol('x')"
      ],
      "metadata": {
        "id": "P1FVofEIfO9o"
      },
      "execution_count": null,
      "outputs": []
    },
    {
      "cell_type": "code",
      "source": [
        "3*x*(x**2+x)**3"
      ],
      "metadata": {
        "colab": {
          "base_uri": "https://localhost:8080/",
          "height": 41
        },
        "id": "sthvd0oUiGds",
        "outputId": "9bb0d915-baed-4248-8feb-6ef42781bc37"
      },
      "execution_count": null,
      "outputs": [
        {
          "output_type": "execute_result",
          "data": {
            "text/plain": [
              "3*x*(x**2 + x)**3"
            ],
            "text/latex": "$\\displaystyle 3 x \\left(x^{2} + x\\right)^{3}$"
          },
          "metadata": {},
          "execution_count": 9
        }
      ]
    },
    {
      "cell_type": "code",
      "source": [
        "# получаем аналитическую призводную\n",
        "res = sym.diff(3*x*(x**2+x)**3,x)"
      ],
      "metadata": {
        "id": "Oh8oWpVUhMmi"
      },
      "execution_count": null,
      "outputs": []
    },
    {
      "cell_type": "code",
      "source": [
        "res.subs(x,1)"
      ],
      "metadata": {
        "colab": {
          "base_uri": "https://localhost:8080/",
          "height": 37
        },
        "id": "wb7SL7U_hcr4",
        "outputId": "f81345af-67b1-43a1-809b-8e39380ac0cb"
      },
      "execution_count": null,
      "outputs": [
        {
          "output_type": "execute_result",
          "data": {
            "text/plain": [
              "132"
            ],
            "text/latex": "$\\displaystyle 132$"
          },
          "metadata": {},
          "execution_count": 8
        }
      ]
    },
    {
      "cell_type": "markdown",
      "source": [
        "##Задание 3\n",
        "Объединить векторы фильмов в матрицу, где каждый вектор является строкой матрицы. Умножьте вектор [1,2,3,4] на полученную матрицу"
      ],
      "metadata": {
        "id": "fOZ_CGG_iVdU"
      }
    },
    {
      "cell_type": "code",
      "source": [
        "films = np.stack((film_1, film_2, film_3, film_4))"
      ],
      "metadata": {
        "id": "gghZJVOEhuiU"
      },
      "execution_count": null,
      "outputs": []
    },
    {
      "cell_type": "code",
      "source": [
        "data = np.array([1, 2, 3, 4]) "
      ],
      "metadata": {
        "id": "3QhQjji7jekO"
      },
      "execution_count": null,
      "outputs": []
    },
    {
      "cell_type": "code",
      "source": [
        "res = np.dot(data, films)\n",
        "res"
      ],
      "metadata": {
        "colab": {
          "base_uri": "https://localhost:8080/"
        },
        "id": "bP061oG8o3M4",
        "outputId": "26a7e5ff-29e3-44e0-a52e-f6dd3178ef62"
      },
      "execution_count": null,
      "outputs": [
        {
          "output_type": "execute_result",
          "data": {
            "text/plain": [
              "array([4, 2, 3, 9, 4, 4])"
            ]
          },
          "metadata": {},
          "execution_count": 58
        }
      ]
    },
    {
      "cell_type": "code",
      "source": [],
      "metadata": {
        "id": "YgUfEynAkv3s"
      },
      "execution_count": null,
      "outputs": []
    }
  ]
}