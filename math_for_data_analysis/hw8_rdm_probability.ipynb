{
  "nbformat": 4,
  "nbformat_minor": 0,
  "metadata": {
    "colab": {
      "provenance": [],
      "toc_visible": true,
      "authorship_tag": "ABX9TyPIBnHk8BfCoKXC93Bcjg1u",
      "include_colab_link": true
    },
    "kernelspec": {
      "name": "python3",
      "display_name": "Python 3"
    },
    "language_info": {
      "name": "python"
    }
  },
  "cells": [
    {
      "cell_type": "markdown",
      "metadata": {
        "id": "view-in-github",
        "colab_type": "text"
      },
      "source": [
        "<a href=\"https://colab.research.google.com/github/gurjan/pyda/blob/main/math_for_data_analysis/hw8_rdm_probability.ipynb\" target=\"_parent\"><img src=\"https://colab.research.google.com/assets/colab-badge.svg\" alt=\"Open In Colab\"/></a>"
      ]
    },
    {
      "cell_type": "markdown",
      "source": [
        "##Домашнее задание \"Случайные величины и вероятности\".\n",
        "###Уровень 0:\n",
        "####Задание 1\n",
        "В магазин привезли устройства с 3-х разных предприятий.\n",
        "\n",
        "Соотношение устройств следующее: 20% - продукция первого предприятия, 30% - продукция второго предприятия, 50% - продукция третьего предприятия; далее, 10% продукции первого предприятия высшего сорта, на втором предприятии - 5% и на третьем - 20% продукции высшего сорта.\n",
        "\n",
        "Найти вероятность того, что случайно купленная новая продукция окажется высшего сорта."
      ],
      "metadata": {
        "id": "fboKKswemlVq"
      }
    },
    {
      "cell_type": "code",
      "execution_count": null,
      "metadata": {
        "colab": {
          "base_uri": "https://localhost:8080/"
        },
        "id": "6Qqg_HSdmhEY",
        "outputId": "bbb0dfc6-6edc-452d-c2a6-e043b7550926"
      },
      "outputs": [
        {
          "output_type": "stream",
          "name": "stdout",
          "text": [
            "Случайно купленная новая продукция окажется высшего сорта с вероятность -  13.5 %\n"
          ]
        }
      ],
      "source": [
        "#применю формулу полной вероятности\n",
        "import numpy as np\n",
        "enterprise = [0.2, 0.3, 0.5]\n",
        "quality = [0.1, 0.05, 0.2]\n",
        "\n",
        "result = sum(list(np.multiply(enterprise,quality )))\n",
        "print(f\"Случайно купленная новая продукция окажется высшего сорта с вероятность - \",result*100,\"%\")"
      ]
    },
    {
      "cell_type": "markdown",
      "source": [
        "###Задание 2\n",
        "Пусть брошены 3 уравновешенные монеты.\n",
        "\n",
        "Рассмотрим 3 события:\n",
        "\n",
        "A1 - монеты 1 и 2 упали одной и той же стороной;\n",
        "\n",
        "A2 - монеты 2 и 3 упали одной и той же стороной;\n",
        "\n",
        "A3 - монеты 1 и 3 упали одной и той же стороной.\n",
        "\n",
        "Покажите, почему эти 3 события (A1, A2, A3) являются попарно независимыми, но не являются независимыми в совокупности."
      ],
      "metadata": {
        "id": "ZxuOU0Fb57lU"
      }
    },
    {
      "cell_type": "code",
      "source": [
        "probability = 1/4 \n",
        "A1_prob = 1/2\n",
        "A2_prob = 1/2\n",
        "A3_prob = 1/2\n",
        "if probability == A1_prob * A2_prob:\n",
        "  print('События A1_prob,A2_prob попарно независимы, если любые два события из этого семейства независимы')\n",
        "else:\n",
        "  print('События не независимы')\n"
      ],
      "metadata": {
        "colab": {
          "base_uri": "https://localhost:8080/"
        },
        "id": "Y0VlFQWdSHTV",
        "outputId": "ceaa96f4-577c-47a6-8217-2c37d26eea12"
      },
      "execution_count": null,
      "outputs": [
        {
          "output_type": "stream",
          "name": "stdout",
          "text": [
            "События A1_prob,A2_prob попарно независимы, если любые два события из этого семейства независимы\n"
          ]
        }
      ]
    },
    {
      "cell_type": "code",
      "source": [
        "if probability == A1_prob * A2_prob * A3_prob:\n",
        "  print('События A1_prob,A2_prob,A3_prob  независимыми в совокупности')\n",
        "else:\n",
        "  print('События A1_prob,A2_prob,A3_prob не независимы')"
      ],
      "metadata": {
        "colab": {
          "base_uri": "https://localhost:8080/"
        },
        "id": "beHXn4p0afZi",
        "outputId": "5e5240c3-8857-4ded-8f35-75b256b80dfc"
      },
      "execution_count": null,
      "outputs": [
        {
          "output_type": "stream",
          "name": "stdout",
          "text": [
            "События A1_prob,A2_prob,A3_prob не независимы\n"
          ]
        }
      ]
    },
    {
      "cell_type": "code",
      "source": [],
      "metadata": {
        "id": "0_j4xTexejyw"
      },
      "execution_count": null,
      "outputs": []
    }
  ]
}