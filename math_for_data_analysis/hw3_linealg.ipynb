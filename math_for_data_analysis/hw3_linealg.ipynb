{
  "nbformat": 4,
  "nbformat_minor": 0,
  "metadata": {
    "colab": {
      "provenance": [],
      "authorship_tag": "ABX9TyPgbzDKIPn/bxRhs4+EvWq/",
      "include_colab_link": true
    },
    "kernelspec": {
      "name": "python3",
      "display_name": "Python 3"
    },
    "language_info": {
      "name": "python"
    }
  },
  "cells": [
    {
      "cell_type": "markdown",
      "metadata": {
        "id": "view-in-github",
        "colab_type": "text"
      },
      "source": [
        "<a href=\"https://colab.research.google.com/github/gurjan/pyda/blob/main/math_for_data_analysis/hw3_linealg.ipynb\" target=\"_parent\"><img src=\"https://colab.research.google.com/assets/colab-badge.svg\" alt=\"Open In Colab\"/></a>"
      ]
    },
    {
      "cell_type": "markdown",
      "source": [
        "# Домашнее задание \"Продвинутая линейная алгебра\".\n",
        "##Уровень 0:\n",
        "###Задание 1\n",
        "Дан объект в 2d пространстве\n",
        "\n",
        "При помощи линейных отображений:\n",
        "\n",
        "- Уменьшить объект в два раза\n",
        "- Повернуть на 130 градусов\n",
        "- Отразить объект относительно прямой y=x (поможет матрица [[0, 1, 0], [1, 0, 0], [0, 0, 1]])"
      ],
      "metadata": {
        "id": "2hVmVH3VslIi"
      }
    },
    {
      "cell_type": "code",
      "source": [
        "import numpy as np\n",
        "import matplotlib.pyplot as plt\n",
        "\n",
        "A = [\n",
        "[-100, -100, 1],\n",
        "[-100, 100, 1],\n",
        "[100, 100, 1],\n",
        "[0, 0, 1],\n",
        "[100, -100, 1],\n",
        "[-100, -100, 1]\n",
        "]\n",
        "\n",
        "A = np.array(A)\n",
        "\n",
        "x = A[:,0]\n",
        "y = A[:,1]\n",
        "plt.plot(x, y)\n",
        "plt.ylim([-200, 200])\n",
        "plt.xlim([-200, 200]) "
      ],
      "metadata": {
        "colab": {
          "base_uri": "https://localhost:8080/",
          "height": 287
        },
        "id": "A-aJ238-skkV",
        "outputId": "b9550172-9067-4b63-9916-f0adc5016edd"
      },
      "execution_count": null,
      "outputs": [
        {
          "output_type": "execute_result",
          "data": {
            "text/plain": [
              "(-200.0, 200.0)"
            ]
          },
          "metadata": {},
          "execution_count": 1
        },
        {
          "output_type": "display_data",
          "data": {
            "text/plain": [
              "<Figure size 432x288 with 1 Axes>"
            ],
            "image/png": "[encoded data removed]"
          },
          "metadata": {
            "needs_background": "light"
          }
        }
      ]
    },
    {
      "cell_type": "code",
      "source": [
        "B = np.array([[0.5,0,1],[0,0.5,1]])"
      ],
      "metadata": {
        "id": "728yUfYasxVI"
      },
      "execution_count": null,
      "outputs": []
    },
    {
      "cell_type": "code",
      "source": [
        "# 1 method\n",
        "tt = [];\n",
        "for kk in A:\n",
        "  tt.append(B@kk)\n",
        "tt\n"
      ],
      "metadata": {
        "colab": {
          "base_uri": "https://localhost:8080/"
        },
        "id": "2fySHEoo1CAq",
        "outputId": "205d201c-ae6b-4fff-c0ec-f0e6fe911587"
      },
      "execution_count": null,
      "outputs": [
        {
          "output_type": "execute_result",
          "data": {
            "text/plain": [
              "[array([-49., -49.]),\n",
              " array([-49.,  51.]),\n",
              " array([51., 51.]),\n",
              " array([1., 1.]),\n",
              " array([ 51., -49.]),\n",
              " array([-49., -49.])]"
            ]
          },
          "metadata": {},
          "execution_count": 3
        }
      ]
    },
    {
      "cell_type": "code",
      "source": [
        "# 2nd method, Уменьшить объект в два раза\n",
        "res = B@A.transpose()\n",
        "tt = res.transpose()\n",
        "\n",
        "tt = np.array(tt)\n",
        "\n",
        "x = tt[:,0]\n",
        "y = tt[:,1]\n",
        "plt.plot(x, y)\n",
        "plt.ylim([-200, 200])\n",
        "plt.xlim([-200, 200]) \n"
      ],
      "metadata": {
        "colab": {
          "base_uri": "https://localhost:8080/",
          "height": 287
        },
        "id": "5p_Y7foc2urp",
        "outputId": "68a047ee-6f88-4ed0-8d16-6a9afd2c5886"
      },
      "execution_count": null,
      "outputs": [
        {
          "output_type": "execute_result",
          "data": {
            "text/plain": [
              "(-200.0, 200.0)"
            ]
          },
          "metadata": {},
          "execution_count": 27
        },
        {
          "output_type": "display_data",
          "data": {
            "text/plain": [
              "<Figure size 432x288 with 1 Axes>"
            ],
            "image/png": "[encoded data removed]"
          },
          "metadata": {
            "needs_background": "light"
          }
        }
      ]
    },
    {
      "cell_type": "code",
      "source": [
        "# Повернуть на 130 градусов\n",
        "theta = np.deg2rad(130)\n",
        "rotate = np.matrix([[np.cos(theta), -np.sin(theta),1],\n",
        "               [np.sin(theta), np.cos(theta),1]])\n",
        "\n",
        "res = rotate@A.transpose()\n",
        "tt = res.transpose()\n",
        "tt = np.array(tt)\n",
        "\n",
        "x = tt[:,0]\n",
        "y = tt[:,1]\n",
        "plt.plot(x, y)\n",
        "plt.ylim([-200, 200])\n",
        "plt.xlim([-200, 200]) \n",
        "\n"
      ],
      "metadata": {
        "colab": {
          "base_uri": "https://localhost:8080/",
          "height": 287
        },
        "id": "c__sAK4fN1xn",
        "outputId": "eaf2354a-de5e-4c68-bfb1-0d6083097eac"
      },
      "execution_count": null,
      "outputs": [
        {
          "output_type": "execute_result",
          "data": {
            "text/plain": [
              "(-200.0, 200.0)"
            ]
          },
          "metadata": {},
          "execution_count": 26
        },
        {
          "output_type": "display_data",
          "data": {
            "text/plain": [
              "<Figure size 432x288 with 1 Axes>"
            ],
            "image/png": "[encoded data removed]"
          },
          "metadata": {
            "needs_background": "light"
          }
        }
      ]
    },
    {
      "cell_type": "code",
      "source": [
        "# Отразить объект относительно прямой y=x (поможет матрица [[0, 1, 0], [1, 0, 0], [0, 0, 1]])\n",
        "C = np.array([[0, 1, 0], [1, 0, 0], [0, 0, 1]])\n",
        "res = C@A.transpose()\n",
        "tt = res.transpose()\n",
        "tt = np.array(tt)\n",
        "\n",
        "x = tt[:,0]\n",
        "y = tt[:,1]\n",
        "plt.plot(x, y)\n",
        "plt.ylim([-200, 200])\n",
        "plt.xlim([-200, 200]) "
      ],
      "metadata": {
        "colab": {
          "base_uri": "https://localhost:8080/",
          "height": 287
        },
        "id": "2XTVINvsN9nK",
        "outputId": "f632bbc6-71cb-449e-e1ca-0ea1fb1cea3b"
      },
      "execution_count": null,
      "outputs": [
        {
          "output_type": "execute_result",
          "data": {
            "text/plain": [
              "(-200.0, 200.0)"
            ]
          },
          "metadata": {},
          "execution_count": 25
        },
        {
          "output_type": "display_data",
          "data": {
            "text/plain": [
              "<Figure size 432x288 with 1 Axes>"
            ],
            "image/png": "[encoded data removed]"
          },
          "metadata": {
            "needs_background": "light"
          }
        }
      ]
    },
    {
      "cell_type": "markdown",
      "source": [
        "##Уровень 1:\n",
        "###Задание 2\n",
        "Найдите спектральное разложение матрицы:\n",
        "\n",
        "m = np.array([[1, 2],\n",
        "              [2, 3]])\n",
        "print(m)"
      ],
      "metadata": {
        "id": "iPYskr9ZQhGh"
      }
    },
    {
      "cell_type": "code",
      "source": [
        "m = np.array([[1, 2], [2, 3]]) \n",
        "m"
      ],
      "metadata": {
        "colab": {
          "base_uri": "https://localhost:8080/"
        },
        "id": "Hx52JApJP_MW",
        "outputId": "288434d7-f083-4940-d090-a6048f2fe1b6"
      },
      "execution_count": null,
      "outputs": [
        {
          "output_type": "execute_result",
          "data": {
            "text/plain": [
              "array([[1, 2],\n",
              "       [2, 3]])"
            ]
          },
          "metadata": {},
          "execution_count": 28
        }
      ]
    },
    {
      "cell_type": "code",
      "source": [
        "# A = S*D*S^T\n",
        "# v - собственные значения\n",
        "# w - собственные вектора\n",
        "v,w = np.linalg.eigh(m)"
      ],
      "metadata": {
        "id": "Q3dVomENQmRP"
      },
      "execution_count": null,
      "outputs": []
    },
    {
      "cell_type": "code",
      "source": [
        "# диагональная матрица\n",
        "D = np.diag(v)"
      ],
      "metadata": {
        "id": "1xbnAni6Tv_m"
      },
      "execution_count": null,
      "outputs": []
    },
    {
      "cell_type": "code",
      "source": [
        "# матрица, столбцы которой являются собсвенными векторами\n",
        "S = w.T\n",
        "S"
      ],
      "metadata": {
        "colab": {
          "base_uri": "https://localhost:8080/"
        },
        "id": "1lhYaSwYT324",
        "outputId": "c7dc3ea4-1010-4abd-9caa-cd411db26751"
      },
      "execution_count": null,
      "outputs": [
        {
          "output_type": "execute_result",
          "data": {
            "text/plain": [
              "array([[-0.85065081,  0.52573111],\n",
              "       [ 0.52573111,  0.85065081]])"
            ]
          },
          "metadata": {},
          "execution_count": 45
        }
      ]
    },
    {
      "cell_type": "code",
      "source": [
        "# транспонированая\n",
        "S.T\n",
        "# S@S.T"
      ],
      "metadata": {
        "colab": {
          "base_uri": "https://localhost:8080/"
        },
        "id": "kcIoNMD5UbCG",
        "outputId": "300a73c5-d07c-4e87-e4a3-a597fa332e08"
      },
      "execution_count": null,
      "outputs": [
        {
          "output_type": "execute_result",
          "data": {
            "text/plain": [
              "array([[-0.85065081,  0.52573111],\n",
              "       [ 0.52573111,  0.85065081]])"
            ]
          },
          "metadata": {},
          "execution_count": 48
        }
      ]
    },
    {
      "cell_type": "code",
      "source": [
        "# проверка\n",
        "S.T@D@S"
      ],
      "metadata": {
        "colab": {
          "base_uri": "https://localhost:8080/"
        },
        "id": "mOKTkkIgUcyZ",
        "outputId": "c056aefd-1153-414a-d4e6-a80597c0b2ab"
      },
      "execution_count": null,
      "outputs": [
        {
          "output_type": "execute_result",
          "data": {
            "text/plain": [
              "array([[1., 2.],\n",
              "       [2., 3.]])"
            ]
          },
          "metadata": {},
          "execution_count": 49
        }
      ]
    },
    {
      "cell_type": "code",
      "source": [],
      "metadata": {
        "id": "x5K8ExqPUqK-"
      },
      "execution_count": null,
      "outputs": []
    }
  ]
}