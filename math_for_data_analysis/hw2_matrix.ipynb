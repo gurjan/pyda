{
  "nbformat": 4,
  "nbformat_minor": 0,
  "metadata": {
    "colab": {
      "provenance": [],
      "authorship_tag": "ABX9TyN8HrbCEtNBa5m7/EXAXprI",
      "include_colab_link": true
    },
    "kernelspec": {
      "name": "python3",
      "display_name": "Python 3"
    },
    "language_info": {
      "name": "python"
    }
  },
  "cells": [
    {
      "cell_type": "markdown",
      "metadata": {
        "id": "view-in-github",
        "colab_type": "text"
      },
      "source": [
        "<a href=\"https://colab.research.google.com/github/gurjan/pyda/blob/main/math_for_data_analysis/hw2_matrix.ipynb\" target=\"_parent\"><img src=\"https://colab.research.google.com/assets/colab-badge.svg\" alt=\"Open In Colab\"/></a>"
      ]
    },
    {
      "cell_type": "code",
      "source": [
        "import numpy as np"
      ],
      "metadata": {
        "id": "vejZD0qPmwLQ"
      },
      "execution_count": null,
      "outputs": []
    },
    {
      "cell_type": "markdown",
      "source": [
        "##Уровень 0:\n",
        "###Задание 1\n",
        "- Создайте матрицу 3 на 3, заполненную числами от 1 до 9\n",
        "- Прибавьте к ней матрицу с единицами на диагонале\n",
        "- Умножьте полученную матрицу на вектор (1, 2, 3)\n",
        "- Вычислить транспонированную матрицу A^T от полученной в результате прибавления матрицы\n",
        "-Посчитайте обратную матрицу к полученной в результате прибавления матрице"
      ],
      "metadata": {
        "id": "VS2btsQtWjFm"
      }
    },
    {
      "cell_type": "code",
      "source": [
        "# Создайте матрицу 3 на 3, заполненную числами от 1 до 9\n",
        "A1= np.array([[1, 2, 3], [4, 5, 6],[7,8,9]])\n",
        "# A1 = np.random.randint(1,9, size=(3, 3)) # using random allocation\n",
        "A1"
      ],
      "metadata": {
        "colab": {
          "base_uri": "https://localhost:8080/"
        },
        "id": "QAaOJhYxV8-5",
        "outputId": "17054385-4997-459d-ecfc-cc53e92db0db"
      },
      "execution_count": null,
      "outputs": [
        {
          "output_type": "execute_result",
          "data": {
            "text/plain": [
              "array([[1, 2, 3],\n",
              "       [4, 5, 6],\n",
              "       [7, 8, 9]])"
            ]
          },
          "metadata": {},
          "execution_count": 28
        }
      ]
    },
    {
      "cell_type": "code",
      "source": [
        "# Прибавьте к ней матрицу с единицами на диагонале\n",
        "A2 = np.eye(3)\n",
        "A3 = A1+A2\n",
        "A3"
      ],
      "metadata": {
        "colab": {
          "base_uri": "https://localhost:8080/"
        },
        "id": "IcqY5_wpXDvT",
        "outputId": "71ff00eb-19f6-452d-d583-38594b4bd116"
      },
      "execution_count": null,
      "outputs": [
        {
          "output_type": "execute_result",
          "data": {
            "text/plain": [
              "array([[ 2.,  2.,  3.],\n",
              "       [ 4.,  6.,  6.],\n",
              "       [ 7.,  8., 10.]])"
            ]
          },
          "metadata": {},
          "execution_count": 29
        }
      ]
    },
    {
      "cell_type": "code",
      "source": [
        "# Умножьте полученную матрицу на вектор (1, 2, 3)\n",
        "A4 = A3@np.array([1,2,3])\n",
        "A4"
      ],
      "metadata": {
        "colab": {
          "base_uri": "https://localhost:8080/"
        },
        "id": "W0nxXsZSXQYu",
        "outputId": "6a8c3c7c-1b3f-46ce-a283-54870b82971b"
      },
      "execution_count": null,
      "outputs": [
        {
          "output_type": "execute_result",
          "data": {
            "text/plain": [
              "array([15., 34., 53.])"
            ]
          },
          "metadata": {},
          "execution_count": 30
        }
      ]
    },
    {
      "cell_type": "code",
      "source": [
        "# Вычислить транспонированную матрицу A^T от полученной в результате прибавления матрицы\n",
        "A4 = np.transpose(A3)\n",
        "A4"
      ],
      "metadata": {
        "colab": {
          "base_uri": "https://localhost:8080/"
        },
        "id": "XsMtd7UBXhtQ",
        "outputId": "61b61c74-fa4b-42c6-cf9c-9eb8047cb603"
      },
      "execution_count": null,
      "outputs": [
        {
          "output_type": "execute_result",
          "data": {
            "text/plain": [
              "array([[ 2.,  4.,  7.],\n",
              "       [ 2.,  6.,  8.],\n",
              "       [ 3.,  6., 10.]])"
            ]
          },
          "metadata": {},
          "execution_count": 31
        }
      ]
    },
    {
      "cell_type": "code",
      "source": [
        "# Посчитайте обратную матрицу к полученной в результате прибавления матрице\n",
        "A5 = np.linalg.inv(A3)\n",
        "A5"
      ],
      "metadata": {
        "colab": {
          "base_uri": "https://localhost:8080/"
        },
        "id": "XbRj_cq6a_7z",
        "outputId": "c189a63d-0399-4fbb-f450-7e61f2b97b42"
      },
      "execution_count": null,
      "outputs": [
        {
          "output_type": "execute_result",
          "data": {
            "text/plain": [
              "array([[-6.00000000e+00, -2.00000000e+00,  3.00000000e+00],\n",
              "       [-1.00000000e+00,  5.00000000e-01, -2.33146835e-16],\n",
              "       [ 5.00000000e+00,  1.00000000e+00, -2.00000000e+00]])"
            ]
          },
          "metadata": {},
          "execution_count": 35
        }
      ]
    },
    {
      "cell_type": "code",
      "source": [
        "A3@A5"
      ],
      "metadata": {
        "colab": {
          "base_uri": "https://localhost:8080/"
        },
        "id": "_POKqzJ8b7zg",
        "outputId": "3c04f5e2-30a1-4048-904b-80a2794cb6a9"
      },
      "execution_count": null,
      "outputs": [
        {
          "output_type": "execute_result",
          "data": {
            "text/plain": [
              "array([[ 1.00000000e+00, -3.33066907e-16,  6.66133815e-16],\n",
              "       [-5.32907052e-15,  1.00000000e+00,  1.33226763e-15],\n",
              "       [-1.77635684e-15, -1.11022302e-15,  1.00000000e+00]])"
            ]
          },
          "metadata": {},
          "execution_count": 78
        }
      ]
    },
    {
      "cell_type": "markdown",
      "source": [
        "##Уровень 1:\n",
        "###Задание 2\n",
        "Найдите собственные значения и собственные вектора матрицы:\n",
        "\n",
        "m = np.array([[2, 2],\n",
        "              [1, 3]])\n",
        "- print(m)"
      ],
      "metadata": {
        "id": "yqhUsCGCcdGM"
      }
    },
    {
      "cell_type": "code",
      "source": [
        "m = np.array([[2, 2], [1, 3]])"
      ],
      "metadata": {
        "id": "E4oWrO_bcAvK"
      },
      "execution_count": null,
      "outputs": []
    },
    {
      "cell_type": "code",
      "source": [
        "# собственные значения\n",
        "np.linalg.eigvals(m)\n",
        "# m1 = np.linalg.eig(m)\n",
        "# m1[0]"
      ],
      "metadata": {
        "colab": {
          "base_uri": "https://localhost:8080/"
        },
        "id": "bqG5XyWGcwKp",
        "outputId": "097b5868-2118-42c3-8d6e-0a83907e6fbd"
      },
      "execution_count": null,
      "outputs": [
        {
          "output_type": "execute_result",
          "data": {
            "text/plain": [
              "array([1., 4.])"
            ]
          },
          "metadata": {},
          "execution_count": 41
        }
      ]
    },
    {
      "cell_type": "code",
      "source": [
        "# собственные вектора\n",
        "m1 = np.linalg.eig(m)\n",
        "m2 = m1[1]\n",
        "m3 = np.transpose(m2)\n",
        "print(\"1st:\", m3[0]/0.4472136, \"\\n2nd:\", m3[1]/-0.70710678)"
      ],
      "metadata": {
        "colab": {
          "base_uri": "https://localhost:8080/"
        },
        "id": "P2hrd5h-dshh",
        "outputId": "1021b4ad-0b1c-436f-a663-50c23038580f"
      },
      "execution_count": null,
      "outputs": [
        {
          "output_type": "stream",
          "name": "stdout",
          "text": [
            "1st: [-1.99999998  0.99999999] \n",
            "2nd: [1. 1.]\n"
          ]
        }
      ]
    },
    {
      "cell_type": "markdown",
      "source": [
        "## Задание 3\n",
        "Придумайте матрицу, у которой определитель = 1, и все элементы не равны 0.\n",
        "\n",
        "P.S. Матрица должна быть ненулевой и размерностью не менее 2!"
      ],
      "metadata": {
        "id": "uFT7m4HvekhF"
      }
    },
    {
      "cell_type": "code",
      "source": [
        "B1= np.array([[2, 3, 6], [1, 1, 4],[1,2,1]])\n",
        "B1"
      ],
      "metadata": {
        "colab": {
          "base_uri": "https://localhost:8080/"
        },
        "id": "Nd_SHSAUjYQd",
        "outputId": "2522ea12-be84-435e-8e20-a5b26aafbeb3"
      },
      "execution_count": null,
      "outputs": [
        {
          "output_type": "execute_result",
          "data": {
            "text/plain": [
              "array([[2, 3, 6],\n",
              "       [1, 1, 4],\n",
              "       [1, 2, 1]])"
            ]
          },
          "metadata": {},
          "execution_count": 73
        }
      ]
    },
    {
      "cell_type": "code",
      "source": [
        "np.linalg.det(B1)"
      ],
      "metadata": {
        "colab": {
          "base_uri": "https://localhost:8080/"
        },
        "id": "Q05LSIszd20R",
        "outputId": "5113cda6-77b3-4702-ecd3-3b1066eb1642"
      },
      "execution_count": null,
      "outputs": [
        {
          "output_type": "execute_result",
          "data": {
            "text/plain": [
              "1.0"
            ]
          },
          "metadata": {},
          "execution_count": 74
        }
      ]
    },
    {
      "cell_type": "code",
      "source": [
        "np.linalg.matrix_rank(B1)"
      ],
      "metadata": {
        "colab": {
          "base_uri": "https://localhost:8080/"
        },
        "id": "ZtIKB2AMgs8E",
        "outputId": "d6b737c2-4af7-441c-be1c-0cbcaec68a41"
      },
      "execution_count": null,
      "outputs": [
        {
          "output_type": "execute_result",
          "data": {
            "text/plain": [
              "3"
            ]
          },
          "metadata": {},
          "execution_count": 76
        }
      ]
    },
    {
      "cell_type": "code",
      "source": [],
      "metadata": {
        "id": "63Vhk8QcmCtq"
      },
      "execution_count": null,
      "outputs": []
    }
  ]
}