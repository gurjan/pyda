{
 "cells": [
  {
   "cell_type": "markdown",
   "metadata": {
    "id": "myA5SPj4DKmZ"
   },
   "source": [
    "https://bit.ly/DSNN-2"
   ]
  },
  {
   "cell_type": "markdown",
   "metadata": {
    "id": "-8hJ2Wh_kDQp"
   },
   "source": [
    "# Лекция 2. Углубление в НС и библиотеку Keras\n"
   ]
  },
  {
   "cell_type": "code",
   "execution_count": 19,
   "metadata": {},
   "outputs": [
    {
     "name": "stdout",
     "output_type": "stream",
     "text": [
      "\u001b[31mERROR: You must give at least one requirement to install (see \"pip help install\")\u001b[0m\u001b[31m\r\n",
      "\u001b[0m"
     ]
    }
   ],
   "source": [
    "!pip install "
   ]
  },
  {
   "cell_type": "code",
   "execution_count": 20,
   "metadata": {
    "id": "ugQwKOESkDQw"
   },
   "outputs": [],
   "source": [
    "import numpy as np\n",
    "import tensorflow as tf\n",
    "from tensorflow import keras\n",
    "from tensorflow.keras import layers"
   ]
  },
  {
   "cell_type": "markdown",
   "metadata": {
    "id": "WyFRpeaWkDQw"
   },
   "source": [
    "## Introduction\n",
    "\n",
    "На прошлой лекции мы познакомились с базовым набором инструментов библиотеки Keras, научились строить модели с помощью инструмента ```keras.Sequential()```. Однако на практике не все модели удается реализовать с помощью этого метода.\n",
    "\n",
    "Если в модели присутствует \"нелинейная\" структура (т.е. есть разветвление потока данных), то ```keras.Sequential()``` не подойдет для построения такой модели. На помощь приходит инструмент *functional API*.\n",
    "\n",
    "\n",
    "Рассмотрим следующую модель:\n",
    "\n",
    "<div class=\"k-default-codeblock\">\n",
    "```\n",
    "(input: 784-dimensional vectors)\n",
    "       ↧\n",
    "[Dense (32 units, relu activation)]\n",
    "       ↧\n",
    "[Dense (32 units, relu activation)]\n",
    "       ↧\n",
    "[Dense (10 units, softmax activation)]\n",
    "       ↧\n",
    "(output: logits of a probability distribution over 10 classes)\n",
    "```\n",
    "</div>"
   ]
  },
  {
   "cell_type": "markdown",
   "metadata": {
    "id": "eTgRP3vfZRGm"
   },
   "source": [
    "Обычно в глубоком обучении принято использовать следующую структуру во входных данных:\n",
    "\n",
    "$$[n, W,H, N_{ch}],$$\n",
    "\n",
    "где $n$ - размер подвыборки (batch_size), $N_{ch}$ - кол-во каналов (красный, зеленый, синий), $W$, $H$ - ширина и высота изображения. Однако batch_size не указывается при объявлении слоев в Keras. \n",
    "\n"
   ]
  },
  {
   "cell_type": "code",
   "execution_count": 21,
   "metadata": {
    "colab": {
     "base_uri": "https://localhost:8080/"
    },
    "id": "pw6d6rxmkDQx",
    "outputId": "1ab0a41b-0ba3-469a-b7c1-971c03ae5da8"
   },
   "outputs": [
    {
     "name": "stdout",
     "output_type": "stream",
     "text": [
      "(None, 32, 32, 3)\n"
     ]
    }
   ],
   "source": [
    "img_inputs = keras.Input(shape=(32, 32, 3))\n",
    "print(img_inputs.shape)"
   ]
  },
  {
   "cell_type": "markdown",
   "metadata": {
    "id": "APlsPQfMadKL"
   },
   "source": [
    "На сегодняшний день мы пока забудем о вышеописанной структуре и будем все входные данные трактовать как один длинный вектор длины $(W \\cdot H \\cdot N_{ch})$."
   ]
  },
  {
   "cell_type": "code",
   "execution_count": 22,
   "metadata": {
    "colab": {
     "base_uri": "https://localhost:8080/"
    },
    "id": "LlEPjrM7kDQx",
    "outputId": "9e329ffc-526a-4363-8cda-5f6720be5c0b"
   },
   "outputs": [
    {
     "data": {
      "text/plain": [
       "<KerasTensor: shape=(None, 784) dtype=float32 (created by layer 'flatten_1')>"
      ]
     },
     "execution_count": 22,
     "metadata": {},
     "output_type": "execute_result"
    }
   ],
   "source": [
    "img_inputs = keras.Input(shape=(28, 28))\n",
    "inputs = layers.Flatten()(img_inputs)\n",
    "inputs"
   ]
  },
  {
   "cell_type": "markdown",
   "metadata": {
    "id": "Vylgfs1_kDQz"
   },
   "source": [
    "Следующий слой, который будет использовать тензор `inputs` как входные данные, должен быть объявлен следующим образом:\n"
   ]
  },
  {
   "cell_type": "code",
   "execution_count": 23,
   "metadata": {
    "id": "FsIrr5OmkDQz"
   },
   "outputs": [],
   "source": [
    "x = layers.Dense(32)(inputs) ### объявление слоя\n",
    "x = layers.BatchNormalization()(x) #\n",
    "x = layers.Dropout(0.5)(x)\n",
    "\n",
    "x = layers.Activation('relu')(x)\n",
    "#x = dense1(inputs) ### указание входного тензора\n",
    "\n",
    "y = layers.Dense(32)(inputs)\n",
    "y = layers.BatchNormalization()(y)\n",
    "y = layers.Dropout(0.5)(y)\n",
    "y = layers.Activation('relu')(y)\n",
    "\n",
    "dense21 = layers.Dense(32, activation=\"relu\")(x)\n",
    "dense22 = layers.Dense(32, activation='relu')(y)\n",
    "\n",
    "dense3 = layers.Add()([dense21, dense22])"
   ]
  },
  {
   "cell_type": "code",
   "execution_count": 24,
   "metadata": {
    "id": "_HHFJLxZkDQ0"
   },
   "outputs": [],
   "source": [
    "x = layers.Dense(32, activation=\"relu\")(dense3)\n",
    "outputs = layers.Dense(10)(x)"
   ]
  },
  {
   "cell_type": "markdown",
   "metadata": {
    "id": "HNxyEX6VkDQ0"
   },
   "source": [
    "На этом этапе мы можем закончить добавление новых блоков и объявить модель, которая будет состоять из данных слоёв:"
   ]
  },
  {
   "cell_type": "code",
   "execution_count": 25,
   "metadata": {
    "id": "r5n0fK6mkDQ0"
   },
   "outputs": [],
   "source": [
    "model = keras.Model(inputs=img_inputs, outputs=outputs, name=\"our_first_model\")"
   ]
  },
  {
   "cell_type": "code",
   "execution_count": 26,
   "metadata": {
    "colab": {
     "base_uri": "https://localhost:8080/"
    },
    "id": "169LLi8vkDQ0",
    "outputId": "561aeb90-3857-48f2-89a4-50434bae0e16"
   },
   "outputs": [
    {
     "name": "stdout",
     "output_type": "stream",
     "text": [
      "Model: \"our_first_model\"\n",
      "__________________________________________________________________________________________________\n",
      " Layer (type)                   Output Shape         Param #     Connected to                     \n",
      "==================================================================================================\n",
      " input_4 (InputLayer)           [(None, 28, 28)]     0           []                               \n",
      "                                                                                                  \n",
      " flatten_1 (Flatten)            (None, 784)          0           ['input_4[0][0]']                \n",
      "                                                                                                  \n",
      " dense_6 (Dense)                (None, 32)           25120       ['flatten_1[0][0]']              \n",
      "                                                                                                  \n",
      " dense_7 (Dense)                (None, 32)           25120       ['flatten_1[0][0]']              \n",
      "                                                                                                  \n",
      " batch_normalization_2 (BatchNo  (None, 32)          128         ['dense_6[0][0]']                \n",
      " rmalization)                                                                                     \n",
      "                                                                                                  \n",
      " batch_normalization_3 (BatchNo  (None, 32)          128         ['dense_7[0][0]']                \n",
      " rmalization)                                                                                     \n",
      "                                                                                                  \n",
      " dropout_2 (Dropout)            (None, 32)           0           ['batch_normalization_2[0][0]']  \n",
      "                                                                                                  \n",
      " dropout_3 (Dropout)            (None, 32)           0           ['batch_normalization_3[0][0]']  \n",
      "                                                                                                  \n",
      " activation_2 (Activation)      (None, 32)           0           ['dropout_2[0][0]']              \n",
      "                                                                                                  \n",
      " activation_3 (Activation)      (None, 32)           0           ['dropout_3[0][0]']              \n",
      "                                                                                                  \n",
      " dense_8 (Dense)                (None, 32)           1056        ['activation_2[0][0]']           \n",
      "                                                                                                  \n",
      " dense_9 (Dense)                (None, 32)           1056        ['activation_3[0][0]']           \n",
      "                                                                                                  \n",
      " add_1 (Add)                    (None, 32)           0           ['dense_8[0][0]',                \n",
      "                                                                  'dense_9[0][0]']                \n",
      "                                                                                                  \n",
      " dense_10 (Dense)               (None, 32)           1056        ['add_1[0][0]']                  \n",
      "                                                                                                  \n",
      " dense_11 (Dense)               (None, 10)           330         ['dense_10[0][0]']               \n",
      "                                                                                                  \n",
      "==================================================================================================\n",
      "Total params: 53,994\n",
      "Trainable params: 53,866\n",
      "Non-trainable params: 128\n",
      "__________________________________________________________________________________________________\n"
     ]
    }
   ],
   "source": [
    "model.summary()"
   ]
  },
  {
   "cell_type": "markdown",
   "metadata": {
    "id": "IrQXWoLukDQ1"
   },
   "source": [
    "Можно, например, нарисовать модель в виде направленного графа:"
   ]
  },
  {
   "cell_type": "code",
   "execution_count": 27,
   "metadata": {
    "colab": {
     "base_uri": "https://localhost:8080/",
     "height": 953
    },
    "id": "luyMMvaAkDQ1",
    "outputId": "249856e2-5a40-4a94-eb76-d5ff74c7191e"
   },
   "outputs": [
    {
     "name": "stdout",
     "output_type": "stream",
     "text": [
      "You must install pydot (`pip install pydot`) and install graphviz (see instructions at https://graphviz.gitlab.io/download/) for plot_model/model_to_dot to work.\n"
     ]
    }
   ],
   "source": [
    "keras.utils.plot_model(model, \"my_first_model.png\")"
   ]
  },
  {
   "cell_type": "code",
   "execution_count": 28,
   "metadata": {
    "colab": {
     "base_uri": "https://localhost:8080/",
     "height": 1000
    },
    "id": "dxhR_eZRkDQ1",
    "outputId": "19992985-4fb8-44b1-cec8-ceb968137bb3"
   },
   "outputs": [
    {
     "name": "stdout",
     "output_type": "stream",
     "text": [
      "You must install pydot (`pip install pydot`) and install graphviz (see instructions at https://graphviz.gitlab.io/download/) for plot_model/model_to_dot to work.\n"
     ]
    }
   ],
   "source": [
    "keras.utils.plot_model(model, \"my_first_model_with_shape_info.png\", show_shapes=True)"
   ]
  },
  {
   "cell_type": "markdown",
   "metadata": {
    "id": "blVUMDKlkDQ2"
   },
   "source": [
    "## Обучение модели\n",
    "\n",
    "Обучение модели происходит тем же самым образом, что и модели, объявленной с помощью класса ```Sequential()```, т.е. с помощью метода ```fit()```.\n"
   ]
  },
  {
   "cell_type": "code",
   "execution_count": 29,
   "metadata": {
    "colab": {
     "base_uri": "https://localhost:8080/"
    },
    "id": "Bix6-3b1co4M",
    "outputId": "4add8d31-b049-4aa0-9681-aefea8a400e5"
   },
   "outputs": [
    {
     "data": {
      "text/plain": [
       "(60000, 28, 28)"
      ]
     },
     "execution_count": 29,
     "metadata": {},
     "output_type": "execute_result"
    }
   ],
   "source": [
    "(x_train, y_train), (x_test, y_test) = keras.datasets.mnist.load_data()\n",
    "x_train.shape"
   ]
  },
  {
   "cell_type": "code",
   "execution_count": 30,
   "metadata": {
    "id": "oX6h8uHBAVv6"
   },
   "outputs": [],
   "source": [
    "x_train = x_train / 255.0 # delim na float\n",
    "x_test = x_test / 255.0"
   ]
  },
  {
   "cell_type": "code",
   "execution_count": 31,
   "metadata": {
    "colab": {
     "base_uri": "https://localhost:8080/"
    },
    "id": "2Y9vG28Y90ep",
    "outputId": "dd7b71d0-7df8-4cd3-ac9c-3ec85959e4e9"
   },
   "outputs": [
    {
     "data": {
      "text/plain": [
       "array([5, 0, 4, ..., 5, 6, 8], dtype=uint8)"
      ]
     },
     "execution_count": 31,
     "metadata": {},
     "output_type": "execute_result"
    }
   ],
   "source": [
    "y_train  # Для SparseCategoricalCrossentropy,metki klassov"
   ]
  },
  {
   "cell_type": "code",
   "execution_count": null,
   "metadata": {
    "colab": {
     "base_uri": "https://localhost:8080/"
    },
    "id": "Pmk003x398Iy",
    "outputId": "4422908e-f404-45d4-a0e8-c28671203cb3"
   },
   "outputs": [
    {
     "data": {
      "text/plain": [
       "array([[0., 0., 0., ..., 0., 0., 0.],\n",
       "       [1., 0., 0., ..., 0., 0., 0.],\n",
       "       [0., 0., 0., ..., 0., 0., 0.],\n",
       "       ...,\n",
       "       [0., 0., 0., ..., 0., 0., 0.],\n",
       "       [0., 0., 0., ..., 0., 0., 0.],\n",
       "       [0., 0., 0., ..., 0., 1., 0.]], dtype=float32)"
      ]
     },
     "execution_count": 13,
     "metadata": {},
     "output_type": "execute_result"
    }
   ],
   "source": [
    "keras.utils.to_categorical(y_train)  # Для CategoricalCrossEntropy, metk klassov pereveli v binarnoe predstavlenije"
   ]
  },
  {
   "cell_type": "code",
   "execution_count": 33,
   "metadata": {
    "colab": {
     "base_uri": "https://localhost:8080/"
    },
    "id": "PTFg-wBmkDQ2",
    "outputId": "5e2e1b62-12d8-4a2a-8ebb-14363cf1eee5"
   },
   "outputs": [
    {
     "name": "stdout",
     "output_type": "stream",
     "text": [
      "Epoch 1/10\n",
      "750/750 [==============================] - 3s 2ms/step - loss: 0.6497 - accuracy: 0.8010 - val_loss: 0.2325 - val_accuracy: 0.9311\n",
      "Epoch 2/10\n",
      "750/750 [==============================] - 1s 1ms/step - loss: 0.4034 - accuracy: 0.8786 - val_loss: 0.2003 - val_accuracy: 0.9402\n",
      "Epoch 3/10\n",
      "750/750 [==============================] - 1s 1ms/step - loss: 0.3590 - accuracy: 0.8917 - val_loss: 0.1773 - val_accuracy: 0.9475\n",
      "Epoch 4/10\n",
      "750/750 [==============================] - 1s 1ms/step - loss: 0.3302 - accuracy: 0.9007 - val_loss: 0.1689 - val_accuracy: 0.9498\n",
      "Epoch 5/10\n",
      "750/750 [==============================] - 1s 1ms/step - loss: 0.3071 - accuracy: 0.9074 - val_loss: 0.1601 - val_accuracy: 0.9513\n",
      "Epoch 6/10\n",
      "750/750 [==============================] - 1s 1ms/step - loss: 0.2941 - accuracy: 0.9109 - val_loss: 0.1554 - val_accuracy: 0.9537\n",
      "Epoch 7/10\n",
      "750/750 [==============================] - 1s 2ms/step - loss: 0.2845 - accuracy: 0.9134 - val_loss: 0.1476 - val_accuracy: 0.9582\n",
      "Epoch 8/10\n",
      "750/750 [==============================] - 1s 2ms/step - loss: 0.2782 - accuracy: 0.9160 - val_loss: 0.1428 - val_accuracy: 0.9591\n",
      "Epoch 9/10\n",
      "750/750 [==============================] - 1s 1ms/step - loss: 0.2722 - accuracy: 0.9171 - val_loss: 0.1357 - val_accuracy: 0.9607\n",
      "Epoch 10/10\n",
      "750/750 [==============================] - 1s 1ms/step - loss: 0.2672 - accuracy: 0.9197 - val_loss: 0.1356 - val_accuracy: 0.9607\n",
      "313/313 - 0s - loss: 0.1324 - accuracy: 0.9589 - 210ms/epoch - 671us/step\n",
      "Test loss: 0.13239386677742004\n",
      "Test accuracy: 0.958899974822998\n"
     ]
    }
   ],
   "source": [
    "# SparseCategoricalCrossentropy- schitajem funkziju poter \n",
    "# optimizator - SGD - stahosticheskij gradientnqj spusk, obuchajetsja na skuchainqh objektah, momentum - budet smotret na istoriju shagov\n",
    "#     RMSprop - mozno izmenjat rho - skolko mq berjom tekushih i nakoplennqh gradientov\n",
    "#     Adam - beta_1: izmenenije traekorii , beta_2: nakaplibanije gradientov\n",
    "# metrics=[\"accuracy\"] - schitajem dolju pravelnqh otvetov\n",
    "model.compile(\n",
    "    loss=keras.losses.SparseCategoricalCrossentropy(from_logits=True),  # from_logits=True, potomu chto na vqhodnom sloe funkzii aktivazii net\n",
    "    optimizer=keras.optimizers.RMSprop(),\n",
    "    metrics=[\"accuracy\"],\n",
    ")\n",
    "# mq hotim pozze ottestiroat test vqborku, poetomu ukazqvaem validation_split, iz train 80% na obuchenije , 20% na validaziju \n",
    "# to est iz obuchenija delaem 2 podvqborki \n",
    "history = model.fit(x_train, y_train, batch_size=64, epochs=10, validation_split=0.2)\n",
    "\n",
    "test_scores = model.evaluate(x_test, y_test, verbose=2)\n",
    "print(\"Test loss:\", test_scores[0])\n",
    "print(\"Test accuracy:\", test_scores[1])\n",
    "# 750 iterazij, model pomenjat vesa 750 raz = 750 shagov gradijentnogo spuska \n",
    "# loss padajet, accuracy rastjot, val_accuracy - vsegda horosho chto rastjot \n",
    "\n",
    "\n",
    "# HINT !!! chtobq obuchenije proishodilo bqstree perehodim na videkartu = GPU , dlja eto v Google colab  menjaem runtain na GPU "
   ]
  },
  {
   "cell_type": "code",
   "execution_count": 34,
   "metadata": {
    "colab": {
     "base_uri": "https://localhost:8080/"
    },
    "id": "8qQhoWlf-BX8",
    "outputId": "eefe5aab-0199-47e0-a536-3c68169592e2"
   },
   "outputs": [
    {
     "data": {
      "text/plain": [
       "{'loss': [0.6497141122817993,\n",
       "  0.40338170528411865,\n",
       "  0.3590148091316223,\n",
       "  0.33015596866607666,\n",
       "  0.3070976436138153,\n",
       "  0.294050931930542,\n",
       "  0.28448486328125,\n",
       "  0.2782333493232727,\n",
       "  0.272167831659317,\n",
       "  0.2672407329082489],\n",
       " 'accuracy': [0.8009999990463257,\n",
       "  0.8786458373069763,\n",
       "  0.8917291760444641,\n",
       "  0.9007291793823242,\n",
       "  0.9073749780654907,\n",
       "  0.910895824432373,\n",
       "  0.9133541584014893,\n",
       "  0.9159791469573975,\n",
       "  0.917104184627533,\n",
       "  0.9197083115577698],\n",
       " 'val_loss': [0.23246298730373383,\n",
       "  0.20026805996894836,\n",
       "  0.17727573215961456,\n",
       "  0.16891105473041534,\n",
       "  0.16008538007736206,\n",
       "  0.1554109752178192,\n",
       "  0.14760057628154755,\n",
       "  0.1428125500679016,\n",
       "  0.13574910163879395,\n",
       "  0.13557162880897522],\n",
       " 'val_accuracy': [0.9310833215713501,\n",
       "  0.9401666522026062,\n",
       "  0.9474999904632568,\n",
       "  0.9497500061988831,\n",
       "  0.9513333439826965,\n",
       "  0.9536666870117188,\n",
       "  0.9581666588783264,\n",
       "  0.9590833187103271,\n",
       "  0.9607499837875366,\n",
       "  0.9606666564941406]}"
      ]
     },
     "execution_count": 34,
     "metadata": {},
     "output_type": "execute_result"
    }
   ],
   "source": [
    "history.history"
   ]
  },
  {
   "cell_type": "code",
   "execution_count": 37,
   "metadata": {
    "colab": {
     "base_uri": "https://localhost:8080/",
     "height": 265
    },
    "id": "3Dv7KP26-CVP",
    "outputId": "9bd5d061-136d-4616-8d4d-33108702a2a7"
   },
   "outputs": [
    {
     "data": {
      "image/png": "[encoded data removed]",
      "text/plain": [
       "<Figure size 640x480 with 1 Axes>"
      ]
     },
     "metadata": {},
     "output_type": "display_data"
    }
   ],
   "source": [
    "import matplotlib.pyplot as plt\n",
    "\n",
    "plt.plot(history.history['loss'], label='train loss')\n",
    "plt.plot(history.history['val_loss'], label='val loss')\n",
    "plt.legend();"
   ]
  },
  {
   "cell_type": "markdown",
   "metadata": {
    "id": "JeZMWX_a-fMc"
   },
   "source": [
    "## Использование модели"
   ]
  },
  {
   "cell_type": "code",
   "execution_count": 38,
   "metadata": {
    "colab": {
     "base_uri": "https://localhost:8080/"
    },
    "id": "p3rTsPrA-lFY",
    "outputId": "19567cf4-ca41-4748-9aa6-6de7c4911a88"
   },
   "outputs": [
    {
     "data": {
      "text/plain": [
       "(28, 28)"
      ]
     },
     "execution_count": 38,
     "metadata": {},
     "output_type": "execute_result"
    }
   ],
   "source": [
    "x_test[0].shape\n",
    "# x_test[0][None].shape razdutaja razmernost, pereshli v razmernost batcha"
   ]
  },
  {
   "cell_type": "code",
   "execution_count": 39,
   "metadata": {
    "colab": {
     "base_uri": "https://localhost:8080/",
     "height": 265
    },
    "id": "_BQ-x1m1-pl8",
    "outputId": "8663dc3c-ed24-41af-ba25-6f2157805616"
   },
   "outputs": [
    {
     "data": {
      "image/png": "[encoded data removed]",
      "text/plain": [
       "<Figure size 640x480 with 1 Axes>"
      ]
     },
     "metadata": {},
     "output_type": "display_data"
    }
   ],
   "source": [
    "plt.imshow(x_test[0], cmap='gray');"
   ]
  },
  {
   "cell_type": "code",
   "execution_count": 40,
   "metadata": {
    "colab": {
     "base_uri": "https://localhost:8080/"
    },
    "id": "6SHFiwnO-hMW",
    "outputId": "d2f942ac-194e-4e83-b426-4905258bd90e"
   },
   "outputs": [
    {
     "name": "stdout",
     "output_type": "stream",
     "text": [
      "1/1 [==============================] - 0s 117ms/step\n"
     ]
    },
    {
     "data": {
      "text/plain": [
       "array([[ -7.7221193, -10.148028 ,  -1.0632683,  -1.7473245, -16.412792 ,\n",
       "         -4.8420196, -18.372766 ,   9.471508 ,  -5.444105 ,  -5.8631315]],\n",
       "      dtype=float32)"
      ]
     },
     "execution_count": 40,
     "metadata": {},
     "output_type": "execute_result"
    }
   ],
   "source": [
    "predictions = model.predict(x_test[0][None]) # predskazannqe znachenija logitq, tk ne stavili funkziju aktivazii\n",
    "predictions"
   ]
  },
  {
   "cell_type": "code",
   "execution_count": 41,
   "metadata": {
    "colab": {
     "base_uri": "https://localhost:8080/"
    },
    "id": "XFzPBJ5a_8MP",
    "outputId": "af54523f-f409-478a-acac-29e0b7ff4a25"
   },
   "outputs": [
    {
     "data": {
      "text/plain": [
       "<tf.Tensor: shape=(1, 10), dtype=float32, numpy=\n",
       "array([[3.4110261e-08, 3.0152636e-09, 2.6594187e-05, 1.3418539e-05,\n",
       "        5.7355271e-12, 6.0770924e-07, 8.0791802e-13, 9.9995875e-01,\n",
       "        3.3282319e-07, 2.1889345e-07]], dtype=float32)>"
      ]
     },
     "execution_count": 41,
     "metadata": {},
     "output_type": "execute_result"
    }
   ],
   "source": [
    "probas = keras.layers.Softmax()(predictions)\n",
    "probas # verjostanost bqt 7"
   ]
  },
  {
   "cell_type": "code",
   "execution_count": 42,
   "metadata": {
    "colab": {
     "base_uri": "https://localhost:8080/"
    },
    "id": "OFOAdcZDADFM",
    "outputId": "8e02acf6-bd69-463a-be96-f4c1e03add45"
   },
   "outputs": [
    {
     "data": {
      "text/plain": [
       "7"
      ]
     },
     "execution_count": 42,
     "metadata": {},
     "output_type": "execute_result"
    }
   ],
   "source": [
    "np.argmax(probas)"
   ]
  },
  {
   "cell_type": "code",
   "execution_count": 43,
   "metadata": {
    "colab": {
     "base_uri": "https://localhost:8080/"
    },
    "id": "C14mowo0AoZ5",
    "outputId": "71316b62-06ca-4314-8938-311b791f2b8c"
   },
   "outputs": [
    {
     "name": "stdout",
     "output_type": "stream",
     "text": [
      "313/313 [==============================] - 0s 886us/step - loss: 0.1324 - accuracy: 0.9589\n"
     ]
    },
    {
     "data": {
      "text/plain": [
       "[0.13239386677742004, 0.958899974822998]"
      ]
     },
     "execution_count": 43,
     "metadata": {},
     "output_type": "execute_result"
    }
   ],
   "source": [
    "model.evaluate(x_test, y_test)"
   ]
  },
  {
   "cell_type": "markdown",
   "metadata": {
    "id": "l-0ZBcERkDQ2"
   },
   "source": [
    "## Сохранение модели\n",
    "\n",
    " `model.save()` при вызове сохраняет модель в один файл.\n",
    "Сохраненный файл включает в себя:\n",
    "- архитектуру модели;\n",
    "- веса модели;\n",
    "- config-file (если такой был создан при компиляции);\n",
    "- оптимизатор и его состояние."
   ]
  },
  {
   "cell_type": "code",
   "execution_count": 44,
   "metadata": {
    "id": "cW3VtcyxkDQ3"
   },
   "outputs": [
    {
     "name": "stdout",
     "output_type": "stream",
     "text": [
      "INFO:tensorflow:Assets written to: path_to_my_model/assets\n"
     ]
    }
   ],
   "source": [
    "model.save(\"path_to_my_model\") # model.save(\"path_to_my_model.h5\") cherez rashirenije, ctobq sohranilsja 1 fail, a ne papka\n",
    "del model\n",
    "# Recreate the exact same model purely from the file:\n",
    "model = keras.models.load_model(\"path_to_my_model\")"
   ]
  },
  {
   "cell_type": "code",
   "execution_count": 45,
   "metadata": {
    "colab": {
     "base_uri": "https://localhost:8080/"
    },
    "id": "3U2MUahZDQGJ",
    "outputId": "983b3355-b1ad-46c7-f4b2-0bb942d97992"
   },
   "outputs": [
    {
     "name": "stdout",
     "output_type": "stream",
     "text": [
      "Model: \"our_first_model\"\n",
      "__________________________________________________________________________________________________\n",
      " Layer (type)                   Output Shape         Param #     Connected to                     \n",
      "==================================================================================================\n",
      " input_4 (InputLayer)           [(None, 28, 28)]     0           []                               \n",
      "                                                                                                  \n",
      " flatten_1 (Flatten)            (None, 784)          0           ['input_4[0][0]']                \n",
      "                                                                                                  \n",
      " dense_6 (Dense)                (None, 32)           25120       ['flatten_1[0][0]']              \n",
      "                                                                                                  \n",
      " dense_7 (Dense)                (None, 32)           25120       ['flatten_1[0][0]']              \n",
      "                                                                                                  \n",
      " batch_normalization_2 (BatchNo  (None, 32)          128         ['dense_6[0][0]']                \n",
      " rmalization)                                                                                     \n",
      "                                                                                                  \n",
      " batch_normalization_3 (BatchNo  (None, 32)          128         ['dense_7[0][0]']                \n",
      " rmalization)                                                                                     \n",
      "                                                                                                  \n",
      " dropout_2 (Dropout)            (None, 32)           0           ['batch_normalization_2[0][0]']  \n",
      "                                                                                                  \n",
      " dropout_3 (Dropout)            (None, 32)           0           ['batch_normalization_3[0][0]']  \n",
      "                                                                                                  \n",
      " activation_2 (Activation)      (None, 32)           0           ['dropout_2[0][0]']              \n",
      "                                                                                                  \n",
      " activation_3 (Activation)      (None, 32)           0           ['dropout_3[0][0]']              \n",
      "                                                                                                  \n",
      " dense_8 (Dense)                (None, 32)           1056        ['activation_2[0][0]']           \n",
      "                                                                                                  \n",
      " dense_9 (Dense)                (None, 32)           1056        ['activation_3[0][0]']           \n",
      "                                                                                                  \n",
      " add_1 (Add)                    (None, 32)           0           ['dense_8[0][0]',                \n",
      "                                                                  'dense_9[0][0]']                \n",
      "                                                                                                  \n",
      " dense_10 (Dense)               (None, 32)           1056        ['add_1[0][0]']                  \n",
      "                                                                                                  \n",
      " dense_11 (Dense)               (None, 10)           330         ['dense_10[0][0]']               \n",
      "                                                                                                  \n",
      "==================================================================================================\n",
      "Total params: 53,994\n",
      "Trainable params: 53,866\n",
      "Non-trainable params: 128\n",
      "__________________________________________________________________________________________________\n"
     ]
    }
   ],
   "source": [
    "model.summary()"
   ]
  },
  {
   "cell_type": "code",
   "execution_count": 46,
   "metadata": {
    "id": "r6j65NrIASsU"
   },
   "outputs": [],
   "source": [
    "# Save the weights to disk\n",
    "model.save_weights('model_weights.h5')"
   ]
  },
  {
   "cell_type": "code",
   "execution_count": 47,
   "metadata": {
    "colab": {
     "base_uri": "https://localhost:8080/"
    },
    "id": "ZOG5p0GfAUrM",
    "outputId": "7b37f92d-91a3-4160-e32e-b0ece0bdd1a5"
   },
   "outputs": [
    {
     "data": {
      "text/plain": [
       "{'name': 'our_first_model',\n",
       " 'layers': [{'class_name': 'InputLayer',\n",
       "   'config': {'batch_input_shape': (None, 28, 28),\n",
       "    'dtype': 'float32',\n",
       "    'sparse': False,\n",
       "    'ragged': False,\n",
       "    'name': 'input_4'},\n",
       "   'name': 'input_4',\n",
       "   'inbound_nodes': []},\n",
       "  {'class_name': 'Flatten',\n",
       "   'config': {'name': 'flatten_1',\n",
       "    'trainable': True,\n",
       "    'dtype': 'float32',\n",
       "    'data_format': 'channels_last'},\n",
       "   'name': 'flatten_1',\n",
       "   'inbound_nodes': [[['input_4', 0, 0, {}]]]},\n",
       "  {'class_name': 'Dense',\n",
       "   'config': {'name': 'dense_6',\n",
       "    'trainable': True,\n",
       "    'dtype': 'float32',\n",
       "    'units': 32,\n",
       "    'activation': 'linear',\n",
       "    'use_bias': True,\n",
       "    'kernel_initializer': {'class_name': 'GlorotUniform',\n",
       "     'config': {'seed': None}},\n",
       "    'bias_initializer': {'class_name': 'Zeros', 'config': {}},\n",
       "    'kernel_regularizer': None,\n",
       "    'bias_regularizer': None,\n",
       "    'activity_regularizer': None,\n",
       "    'kernel_constraint': None,\n",
       "    'bias_constraint': None},\n",
       "   'name': 'dense_6',\n",
       "   'inbound_nodes': [[['flatten_1', 0, 0, {}]]]},\n",
       "  {'class_name': 'Dense',\n",
       "   'config': {'name': 'dense_7',\n",
       "    'trainable': True,\n",
       "    'dtype': 'float32',\n",
       "    'units': 32,\n",
       "    'activation': 'linear',\n",
       "    'use_bias': True,\n",
       "    'kernel_initializer': {'class_name': 'GlorotUniform',\n",
       "     'config': {'seed': None}},\n",
       "    'bias_initializer': {'class_name': 'Zeros', 'config': {}},\n",
       "    'kernel_regularizer': None,\n",
       "    'bias_regularizer': None,\n",
       "    'activity_regularizer': None,\n",
       "    'kernel_constraint': None,\n",
       "    'bias_constraint': None},\n",
       "   'name': 'dense_7',\n",
       "   'inbound_nodes': [[['flatten_1', 0, 0, {}]]]},\n",
       "  {'class_name': 'BatchNormalization',\n",
       "   'config': {'name': 'batch_normalization_2',\n",
       "    'trainable': True,\n",
       "    'dtype': 'float32',\n",
       "    'axis': ListWrapper([1]),\n",
       "    'momentum': 0.99,\n",
       "    'epsilon': 0.001,\n",
       "    'center': True,\n",
       "    'scale': True,\n",
       "    'beta_initializer': {'class_name': 'Zeros', 'config': {}},\n",
       "    'gamma_initializer': {'class_name': 'Ones', 'config': {}},\n",
       "    'moving_mean_initializer': {'class_name': 'Zeros', 'config': {}},\n",
       "    'moving_variance_initializer': {'class_name': 'Ones', 'config': {}},\n",
       "    'beta_regularizer': None,\n",
       "    'gamma_regularizer': None,\n",
       "    'beta_constraint': None,\n",
       "    'gamma_constraint': None},\n",
       "   'name': 'batch_normalization_2',\n",
       "   'inbound_nodes': [[['dense_6', 0, 0, {}]]]},\n",
       "  {'class_name': 'BatchNormalization',\n",
       "   'config': {'name': 'batch_normalization_3',\n",
       "    'trainable': True,\n",
       "    'dtype': 'float32',\n",
       "    'axis': ListWrapper([1]),\n",
       "    'momentum': 0.99,\n",
       "    'epsilon': 0.001,\n",
       "    'center': True,\n",
       "    'scale': True,\n",
       "    'beta_initializer': {'class_name': 'Zeros', 'config': {}},\n",
       "    'gamma_initializer': {'class_name': 'Ones', 'config': {}},\n",
       "    'moving_mean_initializer': {'class_name': 'Zeros', 'config': {}},\n",
       "    'moving_variance_initializer': {'class_name': 'Ones', 'config': {}},\n",
       "    'beta_regularizer': None,\n",
       "    'gamma_regularizer': None,\n",
       "    'beta_constraint': None,\n",
       "    'gamma_constraint': None},\n",
       "   'name': 'batch_normalization_3',\n",
       "   'inbound_nodes': [[['dense_7', 0, 0, {}]]]},\n",
       "  {'class_name': 'Dropout',\n",
       "   'config': {'name': 'dropout_2',\n",
       "    'trainable': True,\n",
       "    'dtype': 'float32',\n",
       "    'rate': 0.5,\n",
       "    'noise_shape': None,\n",
       "    'seed': None},\n",
       "   'name': 'dropout_2',\n",
       "   'inbound_nodes': [[['batch_normalization_2', 0, 0, {}]]]},\n",
       "  {'class_name': 'Dropout',\n",
       "   'config': {'name': 'dropout_3',\n",
       "    'trainable': True,\n",
       "    'dtype': 'float32',\n",
       "    'rate': 0.5,\n",
       "    'noise_shape': None,\n",
       "    'seed': None},\n",
       "   'name': 'dropout_3',\n",
       "   'inbound_nodes': [[['batch_normalization_3', 0, 0, {}]]]},\n",
       "  {'class_name': 'Activation',\n",
       "   'config': {'name': 'activation_2',\n",
       "    'trainable': True,\n",
       "    'dtype': 'float32',\n",
       "    'activation': 'relu'},\n",
       "   'name': 'activation_2',\n",
       "   'inbound_nodes': [[['dropout_2', 0, 0, {}]]]},\n",
       "  {'class_name': 'Activation',\n",
       "   'config': {'name': 'activation_3',\n",
       "    'trainable': True,\n",
       "    'dtype': 'float32',\n",
       "    'activation': 'relu'},\n",
       "   'name': 'activation_3',\n",
       "   'inbound_nodes': [[['dropout_3', 0, 0, {}]]]},\n",
       "  {'class_name': 'Dense',\n",
       "   'config': {'name': 'dense_8',\n",
       "    'trainable': True,\n",
       "    'dtype': 'float32',\n",
       "    'units': 32,\n",
       "    'activation': 'relu',\n",
       "    'use_bias': True,\n",
       "    'kernel_initializer': {'class_name': 'GlorotUniform',\n",
       "     'config': {'seed': None}},\n",
       "    'bias_initializer': {'class_name': 'Zeros', 'config': {}},\n",
       "    'kernel_regularizer': None,\n",
       "    'bias_regularizer': None,\n",
       "    'activity_regularizer': None,\n",
       "    'kernel_constraint': None,\n",
       "    'bias_constraint': None},\n",
       "   'name': 'dense_8',\n",
       "   'inbound_nodes': [[['activation_2', 0, 0, {}]]]},\n",
       "  {'class_name': 'Dense',\n",
       "   'config': {'name': 'dense_9',\n",
       "    'trainable': True,\n",
       "    'dtype': 'float32',\n",
       "    'units': 32,\n",
       "    'activation': 'relu',\n",
       "    'use_bias': True,\n",
       "    'kernel_initializer': {'class_name': 'GlorotUniform',\n",
       "     'config': {'seed': None}},\n",
       "    'bias_initializer': {'class_name': 'Zeros', 'config': {}},\n",
       "    'kernel_regularizer': None,\n",
       "    'bias_regularizer': None,\n",
       "    'activity_regularizer': None,\n",
       "    'kernel_constraint': None,\n",
       "    'bias_constraint': None},\n",
       "   'name': 'dense_9',\n",
       "   'inbound_nodes': [[['activation_3', 0, 0, {}]]]},\n",
       "  {'class_name': 'Add',\n",
       "   'config': {'name': 'add_1', 'trainable': True, 'dtype': 'float32'},\n",
       "   'name': 'add_1',\n",
       "   'inbound_nodes': [[['dense_8', 0, 0, {}], ['dense_9', 0, 0, {}]]]},\n",
       "  {'class_name': 'Dense',\n",
       "   'config': {'name': 'dense_10',\n",
       "    'trainable': True,\n",
       "    'dtype': 'float32',\n",
       "    'units': 32,\n",
       "    'activation': 'relu',\n",
       "    'use_bias': True,\n",
       "    'kernel_initializer': {'class_name': 'GlorotUniform',\n",
       "     'config': {'seed': None}},\n",
       "    'bias_initializer': {'class_name': 'Zeros', 'config': {}},\n",
       "    'kernel_regularizer': None,\n",
       "    'bias_regularizer': None,\n",
       "    'activity_regularizer': None,\n",
       "    'kernel_constraint': None,\n",
       "    'bias_constraint': None},\n",
       "   'name': 'dense_10',\n",
       "   'inbound_nodes': [[['add_1', 0, 0, {}]]]},\n",
       "  {'class_name': 'Dense',\n",
       "   'config': {'name': 'dense_11',\n",
       "    'trainable': True,\n",
       "    'dtype': 'float32',\n",
       "    'units': 10,\n",
       "    'activation': 'linear',\n",
       "    'use_bias': True,\n",
       "    'kernel_initializer': {'class_name': 'GlorotUniform',\n",
       "     'config': {'seed': None}},\n",
       "    'bias_initializer': {'class_name': 'Zeros', 'config': {}},\n",
       "    'kernel_regularizer': None,\n",
       "    'bias_regularizer': None,\n",
       "    'activity_regularizer': None,\n",
       "    'kernel_constraint': None,\n",
       "    'bias_constraint': None},\n",
       "   'name': 'dense_11',\n",
       "   'inbound_nodes': [[['dense_10', 0, 0, {}]]]}],\n",
       " 'input_layers': [['input_4', 0, 0]],\n",
       " 'output_layers': [['dense_11', 0, 0]]}"
      ]
     },
     "execution_count": 47,
     "metadata": {},
     "output_type": "execute_result"
    }
   ],
   "source": [
    "# sohranjajem kobfiguraziju modeli, vsega idjot s sohranenijem vesov\n",
    "config_mnist = model.get_config()\n",
    "config_mnist"
   ]
  },
  {
   "cell_type": "code",
   "execution_count": 48,
   "metadata": {
    "colab": {
     "base_uri": "https://localhost:8080/",
     "height": 314
    },
    "id": "vvoz06fTAXdv",
    "outputId": "e5074883-8d6c-4664-d988-a2f597612c59"
   },
   "outputs": [
    {
     "ename": "ValueError",
     "evalue": "No model config found in the file at <tensorflow.python.platform.gfile.GFile object at 0x7fd8409667a0>.",
     "output_type": "error",
     "traceback": [
      "\u001b[0;31m---------------------------------------------------------------------------\u001b[0m",
      "\u001b[0;31mValueError\u001b[0m                                Traceback (most recent call last)",
      "Cell \u001b[0;32mIn [48], line 1\u001b[0m\n\u001b[0;32m----> 1\u001b[0m \u001b[43mkeras\u001b[49m\u001b[38;5;241;43m.\u001b[39;49m\u001b[43mmodels\u001b[49m\u001b[38;5;241;43m.\u001b[39;49m\u001b[43mload_model\u001b[49m\u001b[43m(\u001b[49m\u001b[38;5;124;43m'\u001b[39;49m\u001b[38;5;124;43mmodel_weights.h5\u001b[39;49m\u001b[38;5;124;43m'\u001b[39;49m\u001b[43m)\u001b[49m  \u001b[38;5;66;03m# ValueError: No model found in config file\u001b[39;00m\n",
      "File \u001b[0;32m~/opt/miniconda3/envs/jupiter/lib/python3.10/site-packages/keras/utils/traceback_utils.py:67\u001b[0m, in \u001b[0;36mfilter_traceback.<locals>.error_handler\u001b[0;34m(*args, **kwargs)\u001b[0m\n\u001b[1;32m     65\u001b[0m \u001b[38;5;28;01mexcept\u001b[39;00m \u001b[38;5;167;01mException\u001b[39;00m \u001b[38;5;28;01mas\u001b[39;00m e:  \u001b[38;5;66;03m# pylint: disable=broad-except\u001b[39;00m\n\u001b[1;32m     66\u001b[0m   filtered_tb \u001b[38;5;241m=\u001b[39m _process_traceback_frames(e\u001b[38;5;241m.\u001b[39m__traceback__)\n\u001b[0;32m---> 67\u001b[0m   \u001b[38;5;28;01mraise\u001b[39;00m e\u001b[38;5;241m.\u001b[39mwith_traceback(filtered_tb) \u001b[38;5;28;01mfrom\u001b[39;00m \u001b[38;5;28mNone\u001b[39m\n\u001b[1;32m     68\u001b[0m \u001b[38;5;28;01mfinally\u001b[39;00m:\n\u001b[1;32m     69\u001b[0m   \u001b[38;5;28;01mdel\u001b[39;00m filtered_tb\n",
      "File \u001b[0;32m~/opt/miniconda3/envs/jupiter/lib/python3.10/site-packages/keras/saving/hdf5_format.py:182\u001b[0m, in \u001b[0;36mload_model_from_hdf5\u001b[0;34m(filepath, custom_objects, compile)\u001b[0m\n\u001b[1;32m    180\u001b[0m model_config \u001b[38;5;241m=\u001b[39m f\u001b[38;5;241m.\u001b[39mattrs\u001b[38;5;241m.\u001b[39mget(\u001b[38;5;124m'\u001b[39m\u001b[38;5;124mmodel_config\u001b[39m\u001b[38;5;124m'\u001b[39m)\n\u001b[1;32m    181\u001b[0m \u001b[38;5;28;01mif\u001b[39;00m model_config \u001b[38;5;129;01mis\u001b[39;00m \u001b[38;5;28;01mNone\u001b[39;00m:\n\u001b[0;32m--> 182\u001b[0m   \u001b[38;5;28;01mraise\u001b[39;00m \u001b[38;5;167;01mValueError\u001b[39;00m(\u001b[38;5;124mf\u001b[39m\u001b[38;5;124m'\u001b[39m\u001b[38;5;124mNo model config found in the file at \u001b[39m\u001b[38;5;132;01m{\u001b[39;00mfilepath\u001b[38;5;132;01m}\u001b[39;00m\u001b[38;5;124m.\u001b[39m\u001b[38;5;124m'\u001b[39m)\n\u001b[1;32m    183\u001b[0m \u001b[38;5;28;01mif\u001b[39;00m \u001b[38;5;28mhasattr\u001b[39m(model_config, \u001b[38;5;124m'\u001b[39m\u001b[38;5;124mdecode\u001b[39m\u001b[38;5;124m'\u001b[39m):\n\u001b[1;32m    184\u001b[0m   model_config \u001b[38;5;241m=\u001b[39m model_config\u001b[38;5;241m.\u001b[39mdecode(\u001b[38;5;124m'\u001b[39m\u001b[38;5;124mutf-8\u001b[39m\u001b[38;5;124m'\u001b[39m)\n",
      "\u001b[0;31mValueError\u001b[0m: No model config found in the file at <tensorflow.python.platform.gfile.GFile object at 0x7fd8409667a0>."
     ]
    }
   ],
   "source": [
    "keras.models.load_model('model_weights.h5')  # ValueError: No model found in config file"
   ]
  },
  {
   "cell_type": "code",
   "execution_count": 49,
   "metadata": {
    "id": "yi2HylLqAkbo"
   },
   "outputs": [],
   "source": [
    "# Load the model weights from disk\n",
    "model.from_config(config_mnist) # schitali model , ee arhitekturu\n",
    "model.load_weights('model_weights.h5') # schitali v model vesa "
   ]
  },
  {
   "cell_type": "code",
   "execution_count": 50,
   "metadata": {
    "colab": {
     "base_uri": "https://localhost:8080/"
    },
    "id": "elT8z66RAt-6",
    "outputId": "f2839d34-4697-4b0e-ca0e-77850ef30a80"
   },
   "outputs": [
    {
     "name": "stdout",
     "output_type": "stream",
     "text": [
      "313/313 [==============================] - 0s 949us/step - loss: 0.1324 - accuracy: 0.9589\n"
     ]
    },
    {
     "data": {
      "text/plain": [
       "[0.13239386677742004, 0.958899974822998]"
      ]
     },
     "execution_count": 50,
     "metadata": {},
     "output_type": "execute_result"
    }
   ],
   "source": [
    "model.evaluate(x_test, y_test)"
   ]
  },
  {
   "cell_type": "markdown",
   "metadata": {
    "id": "XuXD2vIeDZ-G"
   },
   "source": [
    "# Дополнительные материалы\n",
    "\n",
    "1. Переобучение и недообучение - https://youtu.be/m7P7bnLxIc4\n",
    "2. Метрики для задачи регрессии - https://youtu.be/vh2smjQyhp8\n",
    "3. Метрики для задачи классификации - https://youtube.com/playlist?list=PLkJJmZ1EJno6CLyvD4DHc32Fed6cPBHje\n",
    "\n"
   ]
  }
 ],
 "metadata": {
  "accelerator": "GPU",
  "colab": {
   "provenance": [],
   "toc_visible": true
  },
  "kernelspec": {
   "display_name": "Python 3 (ipykernel)",
   "language": "python",
   "name": "python3"
  },
  "language_info": {
   "codemirror_mode": {
    "name": "ipython",
    "version": 3
   },
   "file_extension": ".py",
   "mimetype": "text/x-python",
   "name": "python",
   "nbconvert_exporter": "python",
   "pygments_lexer": "ipython3",
   "version": "3.10.6"
  }
 },
 "nbformat": 4,
 "nbformat_minor": 1
}
