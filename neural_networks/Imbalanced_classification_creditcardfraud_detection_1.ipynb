{
 "cells": [
  {
   "cell_type": "markdown",
   "metadata": {
    "id": "NhyvRxLzN0Ze"
   },
   "source": [
    "https://bit.ly/DSNN-1-intro"
   ]
  },
  {
   "cell_type": "markdown",
   "metadata": {
    "id": "28UkISS77u1Y"
   },
   "source": [
    "# Imbalanced classification: credit card fraud detection"
   ]
  },
  {
   "cell_type": "markdown",
   "metadata": {
    "id": "hDqLJbK47u1e"
   },
   "source": [
    "## Introduction\n",
    "\n",
    "This example looks at the\n",
    "[Kaggle Credit Card Fraud Detection](https://www.kaggle.com/mlg-ulb/creditcardfraud/)\n",
    "dataset to demonstrate how\n",
    "to train a classification model on data with highly imbalanced classes."
   ]
  },
  {
   "cell_type": "markdown",
   "metadata": {
    "id": "gvmBj4H57u1f"
   },
   "source": [
    "## First, vectorize the CSV data"
   ]
  },
  {
   "cell_type": "code",
   "execution_count": 6,
   "metadata": {
    "colab": {
     "base_uri": "https://localhost:8080/"
    },
    "id": "zMtluoDZIVXc",
    "outputId": "ef36fe30-c6ce-4dde-a38f-762084f8b120"
   },
   "outputs": [
    {
     "name": "stdout",
     "output_type": "stream",
     "text": [
      "--2022-12-26 15:44:21--  https://www.dropbox.com/s/9vfy1vi6wsfkxyk/creditcard.csv.zip\n",
      "Resolving www.dropbox.com (www.dropbox.com)... 162.125.70.18\n",
      "Connecting to www.dropbox.com (www.dropbox.com)|162.125.70.18|:443... connected.\n",
      "HTTP request sent, awaiting response... 302 Found\n",
      "Location: /s/raw/9vfy1vi6wsfkxyk/creditcard.csv.zip [following]\n",
      "--2022-12-26 15:44:22--  https://www.dropbox.com/s/raw/9vfy1vi6wsfkxyk/creditcard.csv.zip\n",
      "Reusing existing connection to www.dropbox.com:443.\n",
      "HTTP request sent, awaiting response... 302 Found\n",
      "Location: https://uc3aa3dd1f6d2c14a7908fc22046.dl.dropboxusercontent.com/cd/0/inline/BzUh5Mq65yeJBPur6TkHoJjjsw4TdKXSGrzFfrChFOoxVM6OkOTW6AtlNZlAL-U6bjL8t6w413IicgZ-XjIZ5tbCpRTfEAxnCag3qVVFqbc6wciKUaFrAfvUkPAqPeLLG7SmUIrkijXuMlfZFle2-yWQC8DP9s-T2qsak__jFSfOJA/file# [following]\n",
      "--2022-12-26 15:44:22--  https://uc3aa3dd1f6d2c14a7908fc22046.dl.dropboxusercontent.com/cd/0/inline/BzUh5Mq65yeJBPur6TkHoJjjsw4TdKXSGrzFfrChFOoxVM6OkOTW6AtlNZlAL-U6bjL8t6w413IicgZ-XjIZ5tbCpRTfEAxnCag3qVVFqbc6wciKUaFrAfvUkPAqPeLLG7SmUIrkijXuMlfZFle2-yWQC8DP9s-T2qsak__jFSfOJA/file\n",
      "Resolving uc3aa3dd1f6d2c14a7908fc22046.dl.dropboxusercontent.com (uc3aa3dd1f6d2c14a7908fc22046.dl.dropboxusercontent.com)... 162.125.70.15\n",
      "Connecting to uc3aa3dd1f6d2c14a7908fc22046.dl.dropboxusercontent.com (uc3aa3dd1f6d2c14a7908fc22046.dl.dropboxusercontent.com)|162.125.70.15|:443... connected.\n",
      "HTTP request sent, awaiting response... 302 Found\n",
      "Location: /cd/0/inline2/BzX2mcKVUGUOBjFPB4321keK3W3Fn6zbRUuIcAmEGsq0P_rEFijoBImFjDLinpqwGyfoouJ8xRaDE3M0KFXigpsWT1phuxBBGd4ratzK7vIUzuUw_l5-NFpx9qIdR7MI9_sz-xJsWEfbPBCt0I_PSaUSECjFQGh_5VdJoPQy_iA1ONmnVjZlzNZPSLgz9Cr9YLD2K3mJ7SugpFXMqMjRfb4EYyo54FIXjN2WAgqErON4jpKlH06Wc-VgmnzuJ2ZJ724NwUCfdZDDVXmwMnWEGQAkVa5VdFpXaG9BezWbOjKV0sFFok_s-MkVgRAD9W3SYRgls51cDlHqk7OTyFAZ9ambaDcqGMYAsBF7-6iEueng2VSh6HtO5CKI33giC10FbYbQ6bJhZF038A39NDWcJ4mbpNYmIQgTI_FUMKnAXJemXw/file [following]\n",
      "--2022-12-26 15:44:23--  https://uc3aa3dd1f6d2c14a7908fc22046.dl.dropboxusercontent.com/cd/0/inline2/BzX2mcKVUGUOBjFPB4321keK3W3Fn6zbRUuIcAmEGsq0P_rEFijoBImFjDLinpqwGyfoouJ8xRaDE3M0KFXigpsWT1phuxBBGd4ratzK7vIUzuUw_l5-NFpx9qIdR7MI9_sz-xJsWEfbPBCt0I_PSaUSECjFQGh_5VdJoPQy_iA1ONmnVjZlzNZPSLgz9Cr9YLD2K3mJ7SugpFXMqMjRfb4EYyo54FIXjN2WAgqErON4jpKlH06Wc-VgmnzuJ2ZJ724NwUCfdZDDVXmwMnWEGQAkVa5VdFpXaG9BezWbOjKV0sFFok_s-MkVgRAD9W3SYRgls51cDlHqk7OTyFAZ9ambaDcqGMYAsBF7-6iEueng2VSh6HtO5CKI33giC10FbYbQ6bJhZF038A39NDWcJ4mbpNYmIQgTI_FUMKnAXJemXw/file\n",
      "Reusing existing connection to uc3aa3dd1f6d2c14a7908fc22046.dl.dropboxusercontent.com:443.\n",
      "HTTP request sent, awaiting response... 200 OK\n",
      "Length: 69155672 (66M) [application/zip]\n",
      "Saving to: ‘creditcard.csv.zip’\n",
      "\n",
      "creditcard.csv.zip  100%[===================>]  65,95M  8,03MB/s    in 7,9s    \n",
      "\n",
      "2022-12-26 15:44:32 (8,34 MB/s) - ‘creditcard.csv.zip’ saved [69155672/69155672]\n",
      "\n"
     ]
    }
   ],
   "source": [
    "!wget https://www.dropbox.com/s/9vfy1vi6wsfkxyk/creditcard.csv.zip"
   ]
  },
  {
   "cell_type": "code",
   "execution_count": 7,
   "metadata": {
    "colab": {
     "base_uri": "https://localhost:8080/"
    },
    "id": "DEOTDjm3IZTE",
    "outputId": "48ac6f2e-7c49-465a-fb45-a63d92433a07"
   },
   "outputs": [
    {
     "name": "stdout",
     "output_type": "stream",
     "text": [
      "Archive:  creditcard.csv.zip\n",
      "  inflating: creditcard.csv          \n"
     ]
    }
   ],
   "source": [
    "!unzip creditcard.csv.zip"
   ]
  },
  {
   "cell_type": "code",
   "execution_count": 8,
   "metadata": {
    "colab": {
     "base_uri": "https://localhost:8080/",
     "height": 299
    },
    "id": "St5lb0Nk-gQl",
    "outputId": "4c9706b0-b904-4795-8109-81d24aeed7a2"
   },
   "outputs": [
    {
     "data": {
      "text/html": [
       "<div>\n",
       "<style scoped>\n",
       "    .dataframe tbody tr th:only-of-type {\n",
       "        vertical-align: middle;\n",
       "    }\n",
       "\n",
       "    .dataframe tbody tr th {\n",
       "        vertical-align: top;\n",
       "    }\n",
       "\n",
       "    .dataframe thead th {\n",
       "        text-align: right;\n",
       "    }\n",
       "</style>\n",
       "<table border=\"1\" class=\"dataframe\">\n",
       "  <thead>\n",
       "    <tr style=\"text-align: right;\">\n",
       "      <th></th>\n",
       "      <th>Time</th>\n",
       "      <th>V1</th>\n",
       "      <th>V2</th>\n",
       "      <th>V3</th>\n",
       "      <th>V4</th>\n",
       "      <th>V5</th>\n",
       "      <th>V6</th>\n",
       "      <th>V7</th>\n",
       "      <th>V8</th>\n",
       "      <th>V9</th>\n",
       "      <th>...</th>\n",
       "      <th>V21</th>\n",
       "      <th>V22</th>\n",
       "      <th>V23</th>\n",
       "      <th>V24</th>\n",
       "      <th>V25</th>\n",
       "      <th>V26</th>\n",
       "      <th>V27</th>\n",
       "      <th>V28</th>\n",
       "      <th>Amount</th>\n",
       "      <th>Class</th>\n",
       "    </tr>\n",
       "  </thead>\n",
       "  <tbody>\n",
       "    <tr>\n",
       "      <th>0</th>\n",
       "      <td>0.0</td>\n",
       "      <td>-1.359807</td>\n",
       "      <td>-0.072781</td>\n",
       "      <td>2.536347</td>\n",
       "      <td>1.378155</td>\n",
       "      <td>-0.338321</td>\n",
       "      <td>0.462388</td>\n",
       "      <td>0.239599</td>\n",
       "      <td>0.098698</td>\n",
       "      <td>0.363787</td>\n",
       "      <td>...</td>\n",
       "      <td>-0.018307</td>\n",
       "      <td>0.277838</td>\n",
       "      <td>-0.110474</td>\n",
       "      <td>0.066928</td>\n",
       "      <td>0.128539</td>\n",
       "      <td>-0.189115</td>\n",
       "      <td>0.133558</td>\n",
       "      <td>-0.021053</td>\n",
       "      <td>149.62</td>\n",
       "      <td>0</td>\n",
       "    </tr>\n",
       "    <tr>\n",
       "      <th>1</th>\n",
       "      <td>0.0</td>\n",
       "      <td>1.191857</td>\n",
       "      <td>0.266151</td>\n",
       "      <td>0.166480</td>\n",
       "      <td>0.448154</td>\n",
       "      <td>0.060018</td>\n",
       "      <td>-0.082361</td>\n",
       "      <td>-0.078803</td>\n",
       "      <td>0.085102</td>\n",
       "      <td>-0.255425</td>\n",
       "      <td>...</td>\n",
       "      <td>-0.225775</td>\n",
       "      <td>-0.638672</td>\n",
       "      <td>0.101288</td>\n",
       "      <td>-0.339846</td>\n",
       "      <td>0.167170</td>\n",
       "      <td>0.125895</td>\n",
       "      <td>-0.008983</td>\n",
       "      <td>0.014724</td>\n",
       "      <td>2.69</td>\n",
       "      <td>0</td>\n",
       "    </tr>\n",
       "    <tr>\n",
       "      <th>2</th>\n",
       "      <td>1.0</td>\n",
       "      <td>-1.358354</td>\n",
       "      <td>-1.340163</td>\n",
       "      <td>1.773209</td>\n",
       "      <td>0.379780</td>\n",
       "      <td>-0.503198</td>\n",
       "      <td>1.800499</td>\n",
       "      <td>0.791461</td>\n",
       "      <td>0.247676</td>\n",
       "      <td>-1.514654</td>\n",
       "      <td>...</td>\n",
       "      <td>0.247998</td>\n",
       "      <td>0.771679</td>\n",
       "      <td>0.909412</td>\n",
       "      <td>-0.689281</td>\n",
       "      <td>-0.327642</td>\n",
       "      <td>-0.139097</td>\n",
       "      <td>-0.055353</td>\n",
       "      <td>-0.059752</td>\n",
       "      <td>378.66</td>\n",
       "      <td>0</td>\n",
       "    </tr>\n",
       "    <tr>\n",
       "      <th>3</th>\n",
       "      <td>1.0</td>\n",
       "      <td>-0.966272</td>\n",
       "      <td>-0.185226</td>\n",
       "      <td>1.792993</td>\n",
       "      <td>-0.863291</td>\n",
       "      <td>-0.010309</td>\n",
       "      <td>1.247203</td>\n",
       "      <td>0.237609</td>\n",
       "      <td>0.377436</td>\n",
       "      <td>-1.387024</td>\n",
       "      <td>...</td>\n",
       "      <td>-0.108300</td>\n",
       "      <td>0.005274</td>\n",
       "      <td>-0.190321</td>\n",
       "      <td>-1.175575</td>\n",
       "      <td>0.647376</td>\n",
       "      <td>-0.221929</td>\n",
       "      <td>0.062723</td>\n",
       "      <td>0.061458</td>\n",
       "      <td>123.50</td>\n",
       "      <td>0</td>\n",
       "    </tr>\n",
       "    <tr>\n",
       "      <th>4</th>\n",
       "      <td>2.0</td>\n",
       "      <td>-1.158233</td>\n",
       "      <td>0.877737</td>\n",
       "      <td>1.548718</td>\n",
       "      <td>0.403034</td>\n",
       "      <td>-0.407193</td>\n",
       "      <td>0.095921</td>\n",
       "      <td>0.592941</td>\n",
       "      <td>-0.270533</td>\n",
       "      <td>0.817739</td>\n",
       "      <td>...</td>\n",
       "      <td>-0.009431</td>\n",
       "      <td>0.798278</td>\n",
       "      <td>-0.137458</td>\n",
       "      <td>0.141267</td>\n",
       "      <td>-0.206010</td>\n",
       "      <td>0.502292</td>\n",
       "      <td>0.219422</td>\n",
       "      <td>0.215153</td>\n",
       "      <td>69.99</td>\n",
       "      <td>0</td>\n",
       "    </tr>\n",
       "  </tbody>\n",
       "</table>\n",
       "<p>5 rows × 31 columns</p>\n",
       "</div>"
      ],
      "text/plain": [
       "   Time        V1        V2        V3        V4        V5        V6        V7  \\\n",
       "0   0.0 -1.359807 -0.072781  2.536347  1.378155 -0.338321  0.462388  0.239599   \n",
       "1   0.0  1.191857  0.266151  0.166480  0.448154  0.060018 -0.082361 -0.078803   \n",
       "2   1.0 -1.358354 -1.340163  1.773209  0.379780 -0.503198  1.800499  0.791461   \n",
       "3   1.0 -0.966272 -0.185226  1.792993 -0.863291 -0.010309  1.247203  0.237609   \n",
       "4   2.0 -1.158233  0.877737  1.548718  0.403034 -0.407193  0.095921  0.592941   \n",
       "\n",
       "         V8        V9  ...       V21       V22       V23       V24       V25  \\\n",
       "0  0.098698  0.363787  ... -0.018307  0.277838 -0.110474  0.066928  0.128539   \n",
       "1  0.085102 -0.255425  ... -0.225775 -0.638672  0.101288 -0.339846  0.167170   \n",
       "2  0.247676 -1.514654  ...  0.247998  0.771679  0.909412 -0.689281 -0.327642   \n",
       "3  0.377436 -1.387024  ... -0.108300  0.005274 -0.190321 -1.175575  0.647376   \n",
       "4 -0.270533  0.817739  ... -0.009431  0.798278 -0.137458  0.141267 -0.206010   \n",
       "\n",
       "        V26       V27       V28  Amount  Class  \n",
       "0 -0.189115  0.133558 -0.021053  149.62      0  \n",
       "1  0.125895 -0.008983  0.014724    2.69      0  \n",
       "2 -0.139097 -0.055353 -0.059752  378.66      0  \n",
       "3 -0.221929  0.062723  0.061458  123.50      0  \n",
       "4  0.502292  0.219422  0.215153   69.99      0  \n",
       "\n",
       "[5 rows x 31 columns]"
      ]
     },
     "execution_count": 8,
     "metadata": {},
     "output_type": "execute_result"
    }
   ],
   "source": [
    "import pandas as pd\n",
    "import numpy as np\n",
    "\n",
    "data = pd.read_csv('creditcard.csv')\n",
    "data.head()"
   ]
  },
  {
   "cell_type": "code",
   "execution_count": 9,
   "metadata": {},
   "outputs": [
    {
     "data": {
      "text/plain": [
       "0    284315\n",
       "1       492\n",
       "Name: Class, dtype: int64"
      ]
     },
     "execution_count": 9,
     "metadata": {},
     "output_type": "execute_result"
    }
   ],
   "source": [
    "data['Class'].value_counts()"
   ]
  },
  {
   "cell_type": "code",
   "execution_count": 10,
   "metadata": {
    "id": "OO3Ohp66-skW"
   },
   "outputs": [],
   "source": [
    "features = data.drop(columns=['Class']).values\n",
    "targets = data[['Class']].values.astype('uint8')"
   ]
  },
  {
   "cell_type": "code",
   "execution_count": 11,
   "metadata": {
    "colab": {
     "base_uri": "https://localhost:8080/"
    },
    "id": "vMyaAYtN-12e",
    "outputId": "369f505e-da81-4744-9017-9798da60d715"
   },
   "outputs": [
    {
     "data": {
      "text/plain": [
       "(284807, 30)"
      ]
     },
     "execution_count": 11,
     "metadata": {},
     "output_type": "execute_result"
    }
   ],
   "source": [
    "features.shape"
   ]
  },
  {
   "cell_type": "code",
   "execution_count": 12,
   "metadata": {
    "colab": {
     "base_uri": "https://localhost:8080/"
    },
    "id": "sbAJjwcv-2lH",
    "outputId": "18fcf06e-ecc8-41d5-d112-c1f18c0cb40d"
   },
   "outputs": [
    {
     "data": {
      "text/plain": [
       "(284807, 1)"
      ]
     },
     "execution_count": 12,
     "metadata": {},
     "output_type": "execute_result"
    }
   ],
   "source": [
    "targets.shape # binarnaja vetka klassa"
   ]
  },
  {
   "cell_type": "code",
   "execution_count": 13,
   "metadata": {
    "colab": {
     "base_uri": "https://localhost:8080/"
    },
    "id": "tNsnd4sc-09Z",
    "outputId": "a4e47af9-4c79-412c-d2d2-9b6351b7872e"
   },
   "outputs": [
    {
     "data": {
      "text/plain": [
       "array([[0],\n",
       "       [0],\n",
       "       [0],\n",
       "       ...,\n",
       "       [0],\n",
       "       [0],\n",
       "       [0]], dtype=uint8)"
      ]
     },
     "execution_count": 13,
     "metadata": {},
     "output_type": "execute_result"
    }
   ],
   "source": [
    "targets"
   ]
  },
  {
   "cell_type": "code",
   "execution_count": 14,
   "metadata": {
    "colab": {
     "base_uri": "https://localhost:8080/"
    },
    "id": "Va-ZyjbA-pqH",
    "outputId": "38baf87f-f5b8-455e-a834-685b5aa0db6d"
   },
   "outputs": [
    {
     "data": {
      "text/plain": [
       "array([[ 0.00000000e+00, -1.35980713e+00, -7.27811733e-02, ...,\n",
       "         1.33558377e-01, -2.10530535e-02,  1.49620000e+02],\n",
       "       [ 0.00000000e+00,  1.19185711e+00,  2.66150712e-01, ...,\n",
       "        -8.98309914e-03,  1.47241692e-02,  2.69000000e+00],\n",
       "       [ 1.00000000e+00, -1.35835406e+00, -1.34016307e+00, ...,\n",
       "        -5.53527940e-02, -5.97518406e-02,  3.78660000e+02],\n",
       "       ...,\n",
       "       [ 1.72788000e+05,  1.91956501e+00, -3.01253846e-01, ...,\n",
       "         4.45477214e-03, -2.65608286e-02,  6.78800000e+01],\n",
       "       [ 1.72788000e+05, -2.40440050e-01,  5.30482513e-01, ...,\n",
       "         1.08820735e-01,  1.04532821e-01,  1.00000000e+01],\n",
       "       [ 1.72792000e+05, -5.33412522e-01, -1.89733337e-01, ...,\n",
       "        -2.41530880e-03,  1.36489143e-02,  2.17000000e+02]])"
      ]
     },
     "execution_count": 14,
     "metadata": {},
     "output_type": "execute_result"
    }
   ],
   "source": [
    "features"
   ]
  },
  {
   "cell_type": "markdown",
   "metadata": {
    "id": "IpiTu_U37u1g"
   },
   "source": [
    "## Prepare a validation set"
   ]
  },
  {
   "cell_type": "code",
   "execution_count": 15,
   "metadata": {
    "colab": {
     "base_uri": "https://localhost:8080/"
    },
    "id": "GscjzN_X7u1h",
    "outputId": "b4cd6848-08db-4ec6-f202-87ff4fdd2be8"
   },
   "outputs": [
    {
     "name": "stdout",
     "output_type": "stream",
     "text": [
      "Number of training samples: 227846\n",
      "Number of validation samples: 56961\n"
     ]
    }
   ],
   "source": [
    "#analog -  train test split from sklrearn \n",
    "num_val_samples = int(len(features) * 0.2)\n",
    "train_features = features[:-num_val_samples] # vse objektq do poslednih 20 %\n",
    "train_targets = targets[:-num_val_samples]\n",
    "val_features = features[-num_val_samples:] # 20% na test \n",
    "val_targets = targets[-num_val_samples:]\n",
    "\n",
    "print(\"Number of training samples:\", len(train_features))\n",
    "print(\"Number of validation samples:\", len(val_features))\n"
   ]
  },
  {
   "cell_type": "markdown",
   "metadata": {
    "id": "hr2UHtRF7u1h"
   },
   "source": [
    "## Analyze class imbalance in the targets"
   ]
  },
  {
   "cell_type": "code",
   "execution_count": 16,
   "metadata": {
    "colab": {
     "base_uri": "https://localhost:8080/"
    },
    "id": "yAKkwof9JaM_",
    "outputId": "9a6de263-0f52-458a-b6d0-7f4f4af9633d"
   },
   "outputs": [
    {
     "data": {
      "text/plain": [
       "array([227429,    417])"
      ]
     },
     "execution_count": 16,
     "metadata": {},
     "output_type": "execute_result"
    }
   ],
   "source": [
    "counts = np.bincount(train_targets[:, 0])\n",
    "counts"
   ]
  },
  {
   "cell_type": "code",
   "execution_count": 17,
   "metadata": {
    "colab": {
     "base_uri": "https://localhost:8080/"
    },
    "id": "bA501v367u1h",
    "outputId": "2035c015-8caa-466f-9fd7-5d6c60bb5f6c"
   },
   "outputs": [
    {
     "name": "stdout",
     "output_type": "stream",
     "text": [
      "Number of positive samples in training data: 417 (0.18% of total)\n"
     ]
    }
   ],
   "source": [
    "print(\n",
    "    f\"Number of positive samples in training data: {counts[1]} ({100 * float(counts[1]) / len(train_targets):.2f}% of total)\"\n",
    ")\n",
    "\n",
    "weight_for_0 = 1.0 / counts[0] # ves dlja 0 klassa\n",
    "weight_for_1 = 1.0 / counts[1] # ves dlja moshenicheskih tranzakzij"
   ]
  },
  {
   "cell_type": "markdown",
   "metadata": {
    "id": "1BjXTqzs7u1h"
   },
   "source": [
    "## Normalize the data using training set statistics"
   ]
  },
  {
   "cell_type": "code",
   "execution_count": 18,
   "metadata": {
    "id": "LU9mk2Dk7u1i"
   },
   "outputs": [],
   "source": [
    "# lineinqe modeli trebujut chtobq dannqe bqli mashtabilovanq \n",
    "\n",
    "\n",
    "mean = np.mean(train_features, axis=0)\n",
    "train_features -= mean\n",
    "val_features -= mean\n",
    "\n",
    "std = np.std(train_features, axis=0)\n",
    "train_features /= std\n",
    "val_features /= std"
   ]
  },
  {
   "cell_type": "markdown",
   "metadata": {
    "id": "QZbr3bsl7u1i"
   },
   "source": [
    "## Build a binary classification model"
   ]
  },
  {
   "cell_type": "markdown",
   "metadata": {
    "id": "QQwzl6pDIxW_"
   },
   "source": [
    "### Dropout\n",
    "\n",
    "Метод регуляризации искусственных нейронных сетей, предназначен для уменьшения переобучения сети за счет предотвращения сложных адаптаций отдельных нейронов на тренировочных данных во время обучения.\n",
    "\n",
    "Характеризует исключение определённого процента (например 50%) случайных нейронов на разных итерациях во время обучения нейронной сети. В результате  обучение происходит более общее, нет надежды на определенные нейроны. Такой приём значительно увеличивает скорость обучения, качество обучения на тренировочных данных, а также повышает качество предсказаний модели на новых тестовых данных.\n",
    "\n",
    "На моменте предсказания все нейроны включаются обратно, dropout не используется.\n",
    "\n",
    "<img src='https://drive.google.com/uc?export=view&id=1KQrdTDanDkLhf8Kn8c5ryjqN2acwYWII' width=500>"
   ]
  },
  {
   "cell_type": "code",
   "execution_count": 31,
   "metadata": {
    "colab": {
     "base_uri": "https://localhost:8080/"
    },
    "id": "1jgMgQLL7u1i",
    "outputId": "879adeba-7c0a-4dce-8d69-891191cee9cc"
   },
   "outputs": [
    {
     "name": "stdout",
     "output_type": "stream",
     "text": [
      "Model: \"sequential_1\"\n",
      "_________________________________________________________________\n",
      " Layer (type)                Output Shape              Param #   \n",
      "=================================================================\n",
      " dense_4 (Dense)             (None, 256)               7936      \n",
      "                                                                 \n",
      " dense_5 (Dense)             (None, 256)               65792     \n",
      "                                                                 \n",
      " dropout_2 (Dropout)         (None, 256)               0         \n",
      "                                                                 \n",
      " dense_6 (Dense)             (None, 256)               65792     \n",
      "                                                                 \n",
      " dropout_3 (Dropout)         (None, 256)               0         \n",
      "                                                                 \n",
      " dense_7 (Dense)             (None, 1)                 257       \n",
      "                                                                 \n",
      "=================================================================\n",
      "Total params: 139,777\n",
      "Trainable params: 139,777\n",
      "Non-trainable params: 0\n",
      "_________________________________________________________________\n"
     ]
    }
   ],
   "source": [
    "from tensorflow import keras\n",
    "# zadacha binarnoj klassifikazii\n",
    "\n",
    "hid_size = 256\n",
    "model = keras.Sequential( # posledovatelnost slojev\n",
    "    [\n",
    "        keras.layers.Dense(\n",
    "            hid_size, activation=\"relu\", input_shape=(train_features.shape[-1],)\n",
    "        ), # fully-connected y^1\n",
    "        keras.layers.Dense(hid_size, activation=\"relu\"), # y^2\n",
    "        keras.layers.Dropout(0.3),\n",
    "        keras.layers.Dense(hid_size, activation=\"relu\"), # y^3\n",
    "        keras.layers.Dropout(0.3),\n",
    "        keras.layers.Dense(1, activation=\"sigmoid\"), # y^4\n",
    "    ]\n",
    ")\n",
    "model.summary()"
   ]
  },
  {
   "cell_type": "markdown",
   "metadata": {
    "id": "nKJF0uxs7u1j"
   },
   "source": [
    "## Train the model with `class_weight` argument"
   ]
  },
  {
   "cell_type": "code",
   "execution_count": 23,
   "metadata": {
    "id": "47TFfEAQ7u1j"
   },
   "outputs": [],
   "source": [
    "metrics = [\n",
    "    keras.metrics.FalseNegatives(name=\"fn\"),\n",
    "    keras.metrics.FalsePositives(name=\"fp\"),\n",
    "    keras.metrics.Precision(name=\"precision\"),\n",
    "    keras.metrics.Recall(name=\"recall\"),\n",
    "]\n",
    "\n",
    "model.compile(\n",
    "    optimizer=keras.optimizers.Adam(1e-2), # est esjo SGD statesticheskij gradientnqj spusk\n",
    "    loss=\"binary_crossentropy\",\n",
    "    metrics=metrics\n",
    ")"
   ]
  },
  {
   "cell_type": "code",
   "execution_count": 24,
   "metadata": {
    "id": "MWlFJlM0KYCM"
   },
   "outputs": [],
   "source": [
    "callbacks = [\n",
    "    keras.callbacks.ModelCheckpoint(\"fraud_model_at_epoch_{epoch}.h5\")\n",
    "]\n",
    "\n",
    "class_weight = {0: weight_for_0, 1: weight_for_1}\n",
    "\n"
   ]
  },
  {
   "cell_type": "markdown",
   "metadata": {
    "id": "5G2Enr2YKV32"
   },
   "source": [
    "<img src='https://drive.google.com/uc?export=view&id=1j8SxKYEi12jzJXi_bPO28q5SV9emuu0Y'>"
   ]
  },
  {
   "cell_type": "code",
   "execution_count": 25,
   "metadata": {
    "colab": {
     "base_uri": "https://localhost:8080/"
    },
    "id": "EP8Bd8G2Jl96",
    "outputId": "f673a4a4-3ec6-4a9e-abf1-954149c7cf2c"
   },
   "outputs": [
    {
     "name": "stdout",
     "output_type": "stream",
     "text": [
      "Epoch 1/30\n",
      "112/112 [==============================] - 3s 16ms/step - loss: 2.2721e-06 - fn: 47.0000 - fp: 24528.0000 - precision: 0.0149 - recall: 0.8873 - val_loss: 0.0965 - val_fn: 9.0000 - val_fp: 1316.0000 - val_precision: 0.0478 - val_recall: 0.8800\n",
      "Epoch 2/30\n",
      "112/112 [==============================] - 1s 12ms/step - loss: 1.3733e-06 - fn: 33.0000 - fp: 6529.0000 - precision: 0.0555 - recall: 0.9209 - val_loss: 0.1688 - val_fn: 6.0000 - val_fp: 2494.0000 - val_precision: 0.0269 - val_recall: 0.9200\n",
      "Epoch 3/30\n",
      "112/112 [==============================] - 1s 12ms/step - loss: 1.2620e-06 - fn: 29.0000 - fp: 7977.0000 - precision: 0.0464 - recall: 0.9305 - val_loss: 0.0630 - val_fn: 8.0000 - val_fp: 1032.0000 - val_precision: 0.0610 - val_recall: 0.8933\n",
      "Epoch 4/30\n",
      "112/112 [==============================] - 1s 13ms/step - loss: 1.0708e-06 - fn: 24.0000 - fp: 7661.0000 - precision: 0.0488 - recall: 0.9424 - val_loss: 0.0318 - val_fn: 11.0000 - val_fp: 251.0000 - val_precision: 0.2032 - val_recall: 0.8533\n",
      "Epoch 5/30\n",
      "112/112 [==============================] - 1s 12ms/step - loss: 1.0289e-06 - fn: 22.0000 - fp: 6828.0000 - precision: 0.0547 - recall: 0.9472 - val_loss: 0.0465 - val_fn: 8.0000 - val_fp: 903.0000 - val_precision: 0.0691 - val_recall: 0.8933\n",
      "Epoch 6/30\n",
      "112/112 [==============================] - 1s 13ms/step - loss: 7.7189e-07 - fn: 16.0000 - fp: 6159.0000 - precision: 0.0611 - recall: 0.9616 - val_loss: 0.0614 - val_fn: 7.0000 - val_fp: 1353.0000 - val_precision: 0.0479 - val_recall: 0.9067\n",
      "Epoch 7/30\n",
      "112/112 [==============================] - 2s 14ms/step - loss: 7.5947e-07 - fn: 18.0000 - fp: 6930.0000 - precision: 0.0544 - recall: 0.9568 - val_loss: 0.0175 - val_fn: 10.0000 - val_fp: 278.0000 - val_precision: 0.1895 - val_recall: 0.8667\n",
      "Epoch 8/30\n",
      "112/112 [==============================] - 2s 14ms/step - loss: 7.2836e-07 - fn: 14.0000 - fp: 8910.0000 - precision: 0.0433 - recall: 0.9664 - val_loss: 0.0147 - val_fn: 13.0000 - val_fp: 237.0000 - val_precision: 0.2074 - val_recall: 0.8267\n",
      "Epoch 9/30\n",
      "112/112 [==============================] - 2s 15ms/step - loss: 7.4308e-07 - fn: 11.0000 - fp: 7134.0000 - precision: 0.0538 - recall: 0.9736 - val_loss: 0.0490 - val_fn: 10.0000 - val_fp: 596.0000 - val_precision: 0.0983 - val_recall: 0.8667\n",
      "Epoch 10/30\n",
      "112/112 [==============================] - 2s 15ms/step - loss: 6.5252e-07 - fn: 9.0000 - fp: 5500.0000 - precision: 0.0691 - recall: 0.9784 - val_loss: 0.1212 - val_fn: 5.0000 - val_fp: 3103.0000 - val_precision: 0.0221 - val_recall: 0.9333\n",
      "Epoch 11/30\n",
      "112/112 [==============================] - 2s 14ms/step - loss: 5.4940e-07 - fn: 8.0000 - fp: 6252.0000 - precision: 0.0614 - recall: 0.9808 - val_loss: 0.0357 - val_fn: 8.0000 - val_fp: 599.0000 - val_precision: 0.1006 - val_recall: 0.8933\n",
      "Epoch 12/30\n",
      "112/112 [==============================] - 2s 15ms/step - loss: 4.4149e-07 - fn: 6.0000 - fp: 4545.0000 - precision: 0.0829 - recall: 0.9856 - val_loss: 0.0547 - val_fn: 8.0000 - val_fp: 1189.0000 - val_precision: 0.0533 - val_recall: 0.8933\n",
      "Epoch 13/30\n",
      "112/112 [==============================] - 2s 15ms/step - loss: 6.1169e-07 - fn: 7.0000 - fp: 7083.0000 - precision: 0.0547 - recall: 0.9832 - val_loss: 0.0079 - val_fn: 14.0000 - val_fp: 137.0000 - val_precision: 0.3081 - val_recall: 0.8133\n",
      "Epoch 14/30\n",
      "112/112 [==============================] - 2s 16ms/step - loss: 4.5948e-07 - fn: 8.0000 - fp: 5334.0000 - precision: 0.0712 - recall: 0.9808 - val_loss: 0.0382 - val_fn: 8.0000 - val_fp: 957.0000 - val_precision: 0.0654 - val_recall: 0.8933\n",
      "Epoch 15/30\n",
      "112/112 [==============================] - 2s 16ms/step - loss: 3.2117e-07 - fn: 6.0000 - fp: 3592.0000 - precision: 0.1027 - recall: 0.9856 - val_loss: 0.0766 - val_fn: 6.0000 - val_fp: 2015.0000 - val_precision: 0.0331 - val_recall: 0.9200\n",
      "Epoch 16/30\n",
      "112/112 [==============================] - 2s 17ms/step - loss: 5.0196e-07 - fn: 6.0000 - fp: 6594.0000 - precision: 0.0587 - recall: 0.9856 - val_loss: 0.0351 - val_fn: 9.0000 - val_fp: 643.0000 - val_precision: 0.0931 - val_recall: 0.8800\n",
      "Epoch 17/30\n",
      "112/112 [==============================] - 2s 16ms/step - loss: 5.8495e-07 - fn: 8.0000 - fp: 6184.0000 - precision: 0.0620 - recall: 0.9808 - val_loss: 0.0213 - val_fn: 11.0000 - val_fp: 458.0000 - val_precision: 0.1226 - val_recall: 0.8533\n",
      "Epoch 18/30\n",
      "112/112 [==============================] - 2s 16ms/step - loss: 5.1811e-07 - fn: 8.0000 - fp: 5369.0000 - precision: 0.0708 - recall: 0.9808 - val_loss: 0.0384 - val_fn: 8.0000 - val_fp: 736.0000 - val_precision: 0.0834 - val_recall: 0.8933\n",
      "Epoch 19/30\n",
      "112/112 [==============================] - 2s 18ms/step - loss: 3.5505e-07 - fn: 9.0000 - fp: 3561.0000 - precision: 0.1028 - recall: 0.9784 - val_loss: 0.1057 - val_fn: 10.0000 - val_fp: 1825.0000 - val_precision: 0.0344 - val_recall: 0.8667\n",
      "Epoch 20/30\n",
      "112/112 [==============================] - 2s 18ms/step - loss: 5.4118e-07 - fn: 6.0000 - fp: 5244.0000 - precision: 0.0727 - recall: 0.9856 - val_loss: 0.0338 - val_fn: 9.0000 - val_fp: 755.0000 - val_precision: 0.0804 - val_recall: 0.8800\n",
      "Epoch 21/30\n",
      "112/112 [==============================] - 2s 16ms/step - loss: 4.7825e-07 - fn: 7.0000 - fp: 4844.0000 - precision: 0.0780 - recall: 0.9832 - val_loss: 0.0363 - val_fn: 12.0000 - val_fp: 736.0000 - val_precision: 0.0788 - val_recall: 0.8400\n",
      "Epoch 22/30\n",
      "112/112 [==============================] - 2s 16ms/step - loss: 6.1136e-07 - fn: 8.0000 - fp: 6371.0000 - precision: 0.0603 - recall: 0.9808 - val_loss: 0.0189 - val_fn: 9.0000 - val_fp: 349.0000 - val_precision: 0.1590 - val_recall: 0.8800\n",
      "Epoch 23/30\n",
      "112/112 [==============================] - 2s 17ms/step - loss: 4.0622e-07 - fn: 5.0000 - fp: 3568.0000 - precision: 0.1035 - recall: 0.9880 - val_loss: 0.1244 - val_fn: 4.0000 - val_fp: 3120.0000 - val_precision: 0.0223 - val_recall: 0.9467\n",
      "Epoch 24/30\n",
      "112/112 [==============================] - 2s 17ms/step - loss: 4.1694e-07 - fn: 7.0000 - fp: 4844.0000 - precision: 0.0780 - recall: 0.9832 - val_loss: 0.0348 - val_fn: 12.0000 - val_fp: 758.0000 - val_precision: 0.0767 - val_recall: 0.8400\n",
      "Epoch 25/30\n",
      "112/112 [==============================] - 2s 17ms/step - loss: 5.9960e-07 - fn: 7.0000 - fp: 6324.0000 - precision: 0.0609 - recall: 0.9832 - val_loss: 0.0332 - val_fn: 6.0000 - val_fp: 846.0000 - val_precision: 0.0754 - val_recall: 0.9200\n",
      "Epoch 26/30\n",
      "112/112 [==============================] - 2s 16ms/step - loss: 3.5180e-07 - fn: 3.0000 - fp: 4834.0000 - precision: 0.0789 - recall: 0.9928 - val_loss: 0.0161 - val_fn: 10.0000 - val_fp: 339.0000 - val_precision: 0.1609 - val_recall: 0.8667\n",
      "Epoch 27/30\n",
      "112/112 [==============================] - 2s 18ms/step - loss: 2.4506e-07 - fn: 3.0000 - fp: 2918.0000 - precision: 0.1242 - recall: 0.9928 - val_loss: 0.0182 - val_fn: 9.0000 - val_fp: 380.0000 - val_precision: 0.1480 - val_recall: 0.8800\n",
      "Epoch 28/30\n",
      "112/112 [==============================] - 2s 18ms/step - loss: 4.9122e-07 - fn: 2.0000 - fp: 2603.0000 - precision: 0.1375 - recall: 0.9952 - val_loss: 0.0102 - val_fn: 13.0000 - val_fp: 165.0000 - val_precision: 0.2731 - val_recall: 0.8267\n",
      "Epoch 29/30\n",
      "112/112 [==============================] - 2s 20ms/step - loss: 3.5535e-07 - fn: 3.0000 - fp: 2543.0000 - precision: 0.1400 - recall: 0.9928 - val_loss: 0.0137 - val_fn: 12.0000 - val_fp: 226.0000 - val_precision: 0.2180 - val_recall: 0.8400\n",
      "Epoch 30/30\n",
      "112/112 [==============================] - 2s 18ms/step - loss: 1.2030e-06 - fn: 7.0000 - fp: 5936.0000 - precision: 0.0646 - recall: 0.9832 - val_loss: 0.0874 - val_fn: 7.0000 - val_fp: 1540.0000 - val_precision: 0.0423 - val_recall: 0.9067\n"
     ]
    }
   ],
   "source": [
    "model.fit(\n",
    "    train_features,\n",
    "    train_targets,\n",
    "    batch_size=2048,\n",
    "    epochs=30,\n",
    "    callbacks=callbacks,\n",
    "    validation_data=(val_features, val_targets),\n",
    "    class_weight=class_weight,\n",
    ")\n",
    "# fn - tranzakzija ne naidena\n",
    "# fp - na obqchnuju tranzakziju skazali chto ona moshenicheskaja\n",
    "# precision - chastota klassifikazii, ochen mnogog fp\n",
    "# recall - vqsokij, horosho, ego nuzno povqshat\n"
   ]
  },
  {
   "cell_type": "code",
   "execution_count": 30,
   "metadata": {},
   "outputs": [
    {
     "name": "stdout",
     "output_type": "stream",
     "text": [
      "Generate a prediction\n",
      "1/1 [==============================] - 0s 73ms/step\n",
      "prediction shape: (1, 1)\n"
     ]
    }
   ],
   "source": [
    "# Generate a prediction using model.predict() \n",
    "# and calculate it's shape:\n",
    "print(\"Generate a prediction\")\n",
    "prediction = model.predict(val_features[:1])\n",
    "print(\"prediction shape:\", prediction.shape)"
   ]
  },
  {
   "cell_type": "markdown",
   "metadata": {
    "id": "VAAcSs2h98Rg"
   },
   "source": [
    "#**Дополнительные материалы**\n",
    "\n",
    "\n",
    "**По теории:**\n",
    "1. [Interactive neural network playground in your browser](http://playground.tensorflow.org/#activation=tanh&batchSize=10&dataset=circle&regDataset=reg-plane&learningRate=0.03&regularizationRate=0&noise=0&networkShape=4,2&seed=0.72732&showTestData=false&discretize=false&percTrainData=50&x=true&y=true&xTimesY=false&xSquared=false&ySquared=false&cosX=false&sinX=false&cosY=false&sinY=false&collectStats=false&problem=classification&initZero=false&hideText=false)\n",
    "2. Backprop in depth by cs231 - https://cs231n.github.io/optimization-2/\n",
    "3. Минусы и плюсы функций активаций (видео) - https://youtu.be/Gs8T_qF-FAA\n",
    "4. A recipe for training neural networks  - http://karpathy.github.io/2019/04/25/recipe/\n",
    "5. Метод обратного распространения ошибки (видео) - https://youtu.be/EuhoXsuu8SQ\n",
    "6. Примерно аналогичный материал с лекции, только от Стенфорда и на английском - http://cs231n.github.io/neural-networks-1/#nn\n",
    "7. Official intro to Keras - https://keras.io/getting_started/intro_to_keras_for_researchers/\n",
    "8. Deep learning frameworks (видео) - https://www.youtube.com/watch?v=ghZyptkanB0\n",
    "\n",
    "\n",
    "**По практике:**\n",
    "1. Метод fit в Keras (видео) - https://youtu.be/PLlic60dgS4\n",
    "2. Callbacks в Keras. ModelCheckpoint, ReduceLROnPlateau, EarlyStopping (видео) - https://youtu.be/sq9HvLAsK94"
   ]
  }
 ],
 "metadata": {
  "colab": {
   "provenance": [],
   "toc_visible": true
  },
  "kernelspec": {
   "display_name": "Python 3 (ipykernel)",
   "language": "python",
   "name": "python3"
  },
  "language_info": {
   "codemirror_mode": {
    "name": "ipython",
    "version": 3
   },
   "file_extension": ".py",
   "mimetype": "text/x-python",
   "name": "python",
   "nbconvert_exporter": "python",
   "pygments_lexer": "ipython3",
   "version": "3.10.6"
  }
 },
 "nbformat": 4,
 "nbformat_minor": 1
}
