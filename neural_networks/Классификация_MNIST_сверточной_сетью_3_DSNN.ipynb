{
 "cells": [
  {
   "cell_type": "markdown",
   "metadata": {
    "id": "1yBkl9R-CL6k"
   },
   "source": [
    "https://bit.ly/DSNN-3-CNN"
   ]
  },
  {
   "cell_type": "markdown",
   "metadata": {
    "id": "wam9bqBX-PT4"
   },
   "source": [
    "# Классификация MNIST сверточной сетью\n",
    "\n",
    "https://www.kaggle.com/c/digit-recognizer"
   ]
  },
  {
   "cell_type": "code",
   "execution_count": null,
   "metadata": {
    "id": "MYMa35NN-PT-"
   },
   "outputs": [],
   "source": [
    "import cv2\n",
    "import numpy as np\n",
    "import tensorflow as tf\n",
    "from tensorflow import keras"
   ]
  },
  {
   "cell_type": "code",
   "execution_count": null,
   "metadata": {
    "colab": {
     "base_uri": "https://localhost:8080/"
    },
    "id": "x-AfAA5KvZXs",
    "outputId": "0e7060b5-13b4-4d26-ebfa-3d3e11e65986"
   },
   "outputs": [
    {
     "data": {
      "text/plain": [
       "(60000, 28, 28)"
      ]
     },
     "execution_count": 85,
     "metadata": {},
     "output_type": "execute_result"
    }
   ],
   "source": [
    "(X_train, y_train), (X_test, y_test) = keras.datasets.mnist.load_data()\n",
    "X_train.shape"
   ]
  },
  {
   "cell_type": "code",
   "execution_count": null,
   "metadata": {
    "id": "dEHChRcVwCnj"
   },
   "outputs": [],
   "source": [
    "X_train = X_train / 255.0\n",
    "X_test = X_test / 255.0"
   ]
  },
  {
   "cell_type": "code",
   "execution_count": null,
   "metadata": {
    "colab": {
     "base_uri": "https://localhost:8080/"
    },
    "id": "l3mcl-R3vsD5",
    "outputId": "4f5c1c64-3776-467f-d04e-1fc859468331"
   },
   "outputs": [
    {
     "data": {
      "text/plain": [
       "(60000, 28, 28, 1)"
      ]
     },
     "execution_count": 87,
     "metadata": {},
     "output_type": "execute_result"
    }
   ],
   "source": [
    "# приводим размерность к удобному для обаботки виду\n",
    "# добавляем размерность канала\n",
    "X_train = X_train.reshape(X_train.shape[0], 28, 28, 1)\n",
    "X_test = X_test.reshape(X_test.shape[0], 28, 28, 1)\n",
    "\n",
    "X_train.shape"
   ]
  },
  {
   "cell_type": "markdown",
   "metadata": {
    "id": "AfJmhSd8-PUB"
   },
   "source": [
    "## Визуализируем исходные данные"
   ]
  },
  {
   "cell_type": "code",
   "execution_count": null,
   "metadata": {
    "colab": {
     "base_uri": "https://localhost:8080/",
     "height": 256
    },
    "id": "krOeCzpp-PUB",
    "outputId": "6c6dc3c4-6fce-429a-aebd-439f7b982a50"
   },
   "outputs": [
    {
     "data": {
      "image/png": "[encoded data removed]",
      "text/plain": [
       "<Figure size 1440x720 with 5 Axes>"
      ]
     },
     "metadata": {
      "needs_background": "light"
     },
     "output_type": "display_data"
    }
   ],
   "source": [
    "import matplotlib.pyplot as plt\n",
    "\n",
    "fig = plt.figure(figsize=(20, 10))\n",
    "for i, img in enumerate(X_train[:5], 1):\n",
    "    subplot = fig.add_subplot(1, 5, i)\n",
    "    plt.imshow(img[:,:,0], cmap='gray');\n",
    "    subplot.set_title(y_train[i - 1]);"
   ]
  },
  {
   "cell_type": "markdown",
   "metadata": {
    "id": "FjnpPir3-PUC"
   },
   "source": [
    "## Собираем сверточную сеть для обучения"
   ]
  },
  {
   "cell_type": "code",
   "execution_count": null,
   "metadata": {
    "id": "NLvBtFnA-PUC"
   },
   "outputs": [],
   "source": [
    "model = keras.models.Sequential([\n",
    "    keras.layers.Conv2D(filters=6, # skolko kanalov hotim videt na vqhode\n",
    "                        kernel_size=(5, 5), # razmer svertki, filtra = 3 = (3,3)\n",
    "                        padding='same', # kogda ne hotim chtobq kartinka ne umenshalas, zapolnenije matrizq vokrug nuljami \n",
    "                        # valid, kogda izmenjat ne nado. Same = dobavljaetsja padding v vide 0 ramki \n",
    "                        activation='tanh',\n",
    "                        input_shape=X_train.shape[1:]), #28x28x3\n",
    "    keras.layers.AveragePooling2D(pool_size=(2, 2), padding='same'), # umenshajem kartinku, radi umenshenija kol-va vesov i vqchelenij\n",
    "                            # stride - na skolko pikselei hotim dvigatsja vpravo, vniz. KOgda k konzu svjpstochnoi seti kartinka\n",
    "    # umenshaetsja, mq mozem oereshagivat. Esjo pomogajet umenshat kartinku po razmernosti\n",
    "                            # dilation - by defailut 1, prostranstvo rastjagevaljetsja. Polezno k konzu seti. KOgda nuzno priznaki dostat iz raznqh mest\n",
    "    \n",
    "    keras.layers.Conv2D(filters=16, \n",
    "                        kernel_size=(5, 5),\n",
    "                        padding='same',\n",
    "                        activation='tanh'),\n",
    "    keras.layers.AveragePooling2D(pool_size=(2, 2), padding='same'),\n",
    "    \n",
    "    keras.layers.Flatten(),\n",
    "    keras.layers.Dense(32, activation='tanh'),\n",
    "    keras.layers.Dense(10, activation='softmax')])\n",
    "\n",
    "model.compile(optimizer='SGD',\n",
    "              loss=keras.losses.categorical_crossentropy,\n",
    "              metrics=['accuracy'])"
   ]
  },
  {
   "cell_type": "code",
   "execution_count": null,
   "metadata": {
    "colab": {
     "base_uri": "https://localhost:8080/"
    },
    "id": "s9Q-kgO--PUD",
    "outputId": "3572579f-3714-4fe6-d0f6-ff3076b99c81"
   },
   "outputs": [
    {
     "name": "stdout",
     "output_type": "stream",
     "text": [
      "Model: \"sequential_14\"\n",
      "_________________________________________________________________\n",
      " Layer (type)                Output Shape              Param #   \n",
      "=================================================================\n",
      " conv2d_28 (Conv2D)          (None, 28, 28, 6)         156       \n",
      "                                                                 \n",
      " average_pooling2d_14 (Avera  (None, 14, 14, 6)        0         \n",
      " gePooling2D)                                                    \n",
      "                                                                 \n",
      " conv2d_29 (Conv2D)          (None, 14, 14, 16)        2416      \n",
      "                                                                 \n",
      " average_pooling2d_15 (Avera  (None, 7, 7, 16)         0         \n",
      " gePooling2D)                                                    \n",
      "                                                                 \n",
      " flatten_14 (Flatten)        (None, 784)               0         \n",
      "                                                                 \n",
      " dense_32 (Dense)            (None, 32)                25120     \n",
      "                                                                 \n",
      " dense_33 (Dense)            (None, 10)                330       \n",
      "                                                                 \n",
      "=================================================================\n",
      "Total params: 28,022\n",
      "Trainable params: 28,022\n",
      "Non-trainable params: 0\n",
      "_________________________________________________________________\n"
     ]
    }
   ],
   "source": [
    "model.summary()"
   ]
  },
  {
   "cell_type": "markdown",
   "metadata": {
    "id": "mdWWGVWh-PUD"
   },
   "source": [
    "## One-hot кодировка разметки"
   ]
  },
  {
   "cell_type": "code",
   "execution_count": null,
   "metadata": {
    "id": "t53WhEJj-PUD"
   },
   "outputs": [],
   "source": [
    "y_train_ohe = keras.utils.to_categorical(y_train)\n",
    "y_test_ohe = keras.utils.to_categorical(y_test)"
   ]
  },
  {
   "cell_type": "code",
   "execution_count": null,
   "metadata": {
    "colab": {
     "base_uri": "https://localhost:8080/"
    },
    "id": "_DDvCDWO-PUE",
    "outputId": "65983bdc-1c60-4eaf-e05d-c12e5c65314b"
   },
   "outputs": [
    {
     "name": "stdout",
     "output_type": "stream",
     "text": [
      "(60000,)\n",
      "(60000, 10)\n"
     ]
    }
   ],
   "source": [
    "print(y_train.shape)\n",
    "print(y_train_ohe.shape) # binarnoe predstavljenije, ego zdjot kategorialsnaja crossentropija"
   ]
  },
  {
   "cell_type": "markdown",
   "metadata": {
    "id": "C1spRItd-PUE"
   },
   "source": [
    "## Запускаем обучение"
   ]
  },
  {
   "cell_type": "code",
   "execution_count": null,
   "metadata": {
    "id": "Wwm-d5kkCOvO"
   },
   "outputs": [],
   "source": [
    "!nvidia-smi"
   ]
  },
  {
   "cell_type": "code",
   "execution_count": null,
   "metadata": {
    "colab": {
     "base_uri": "https://localhost:8080/"
    },
    "id": "8gNQkGB0-PUE",
    "outputId": "ef1df74a-ad41-4089-815e-1b09fae1a182"
   },
   "outputs": [
    {
     "name": "stdout",
     "output_type": "stream",
     "text": [
      "Epoch 1/5\n",
      "469/469 [==============================] - 2s 5ms/step - loss: 0.2647 - accuracy: 0.9262 - val_loss: 0.2460 - val_accuracy: 0.9327\n",
      "Epoch 2/5\n",
      "469/469 [==============================] - 2s 5ms/step - loss: 0.2465 - accuracy: 0.9309 - val_loss: 0.2292 - val_accuracy: 0.9376\n",
      "Epoch 3/5\n",
      "469/469 [==============================] - 2s 4ms/step - loss: 0.2310 - accuracy: 0.9358 - val_loss: 0.2154 - val_accuracy: 0.9405\n",
      "Epoch 4/5\n",
      "469/469 [==============================] - 2s 5ms/step - loss: 0.2173 - accuracy: 0.9390 - val_loss: 0.2039 - val_accuracy: 0.9432\n",
      "Epoch 5/5\n",
      "469/469 [==============================] - 2s 5ms/step - loss: 0.2053 - accuracy: 0.9425 - val_loss: 0.1920 - val_accuracy: 0.9468\n"
     ]
    },
    {
     "data": {
      "text/plain": [
       "<keras.callbacks.History at 0x7f7404c285b0>"
      ]
     },
     "execution_count": 115,
     "metadata": {},
     "output_type": "execute_result"
    }
   ],
   "source": [
    "model.fit(X_train, y_train_ohe,\n",
    "          batch_size=128, \n",
    "          epochs=5,\n",
    "          validation_data=(X_test, y_test_ohe))"
   ]
  },
  {
   "cell_type": "markdown",
   "metadata": {
    "id": "DU8-qtD6-PUE"
   },
   "source": [
    "## Предсказываем класс объекта"
   ]
  },
  {
   "cell_type": "code",
   "execution_count": null,
   "metadata": {
    "colab": {
     "base_uri": "https://localhost:8080/"
    },
    "id": "7YOXhjXz-PUF",
    "outputId": "7a8bf339-8963-4a10-c228-323c6396fdba"
   },
   "outputs": [
    {
     "name": "stdout",
     "output_type": "stream",
     "text": [
      "313/313 [==============================] - 1s 2ms/step\n"
     ]
    }
   ],
   "source": [
    "y_pred = model.predict(X_test)\n",
    "y_pred_labels = np.argmax(y_pred, axis=1)"
   ]
  },
  {
   "cell_type": "markdown",
   "metadata": {
    "id": "RLqb0lu9-PUF"
   },
   "source": [
    "## Оцениваем качество решение на валидационной выборке"
   ]
  },
  {
   "cell_type": "code",
   "execution_count": null,
   "metadata": {
    "colab": {
     "base_uri": "https://localhost:8080/"
    },
    "id": "pv3JU7Sr-PUF",
    "outputId": "1352d8f7-8b12-4014-fd5e-4ea2b60db040"
   },
   "outputs": [
    {
     "name": "stdout",
     "output_type": "stream",
     "text": [
      "Accuracy 0.9201\n"
     ]
    }
   ],
   "source": [
    "from sklearn.metrics import accuracy_score\n",
    "print('Accuracy', accuracy_score(y_test, y_pred_labels))"
   ]
  },
  {
   "cell_type": "code",
   "execution_count": null,
   "metadata": {
    "colab": {
     "base_uri": "https://localhost:8080/"
    },
    "id": "HK_wcKkG-PUF",
    "outputId": "6da540b5-f953-4422-b182-492a85106299"
   },
   "outputs": [
    {
     "name": "stdout",
     "output_type": "stream",
     "text": [
      "              precision    recall  f1-score   support\n",
      "\n",
      "           0       0.94      0.98      0.96       980\n",
      "           1       0.97      0.97      0.97      1135\n",
      "           2       0.92      0.88      0.90      1032\n",
      "           3       0.92      0.91      0.91      1010\n",
      "           4       0.92      0.92      0.92       982\n",
      "           5       0.92      0.87      0.90       892\n",
      "           6       0.92      0.95      0.94       958\n",
      "           7       0.92      0.90      0.91      1028\n",
      "           8       0.89      0.91      0.90       974\n",
      "           9       0.88      0.90      0.89      1009\n",
      "\n",
      "    accuracy                           0.92     10000\n",
      "   macro avg       0.92      0.92      0.92     10000\n",
      "weighted avg       0.92      0.92      0.92     10000\n",
      "\n"
     ]
    }
   ],
   "source": [
    "from sklearn.metrics import classification_report\n",
    "print(classification_report(y_test, y_pred_labels))"
   ]
  },
  {
   "cell_type": "code",
   "execution_count": null,
   "metadata": {
    "colab": {
     "base_uri": "https://localhost:8080/",
     "height": 496
    },
    "id": "PPljcguC-PUF",
    "outputId": "1a93bbb3-0d33-41b3-dd4e-396e7df9776d"
   },
   "outputs": [
    {
     "data": {
      "image/png": "[encoded data removed]",
      "text/plain": [
       "<Figure size 720x576 with 2 Axes>"
      ]
     },
     "metadata": {
      "needs_background": "light"
     },
     "output_type": "display_data"
    }
   ],
   "source": [
    "from sklearn.metrics import confusion_matrix\n",
    "cm = confusion_matrix(y_test, y_pred_labels)\n",
    "\n",
    "plt.figure(figsize=(10, 8))\n",
    "plt.imshow(cm, cmap=plt.cm.Blues)\n",
    "plt.xlabel(\"Predicted labels\")\n",
    "plt.ylabel(\"True labels\")\n",
    "plt.xticks([], [])\n",
    "plt.yticks([], [])\n",
    "plt.title('Confusion matrix ')\n",
    "plt.colorbar()\n",
    "plt.show()"
   ]
  },
  {
   "cell_type": "markdown",
   "metadata": {
    "id": "BW_fiXzo-PUG"
   },
   "source": [
    "## Визуализируем предсказания для тестовой выборки"
   ]
  },
  {
   "cell_type": "code",
   "execution_count": null,
   "metadata": {
    "colab": {
     "base_uri": "https://localhost:8080/",
     "height": 256
    },
    "id": "yWr_Ca52-PUG",
    "outputId": "76d810f7-577a-41e6-836f-a461daf3a2d0"
   },
   "outputs": [
    {
     "data": {
      "image/png": "[encoded data removed]",
      "text/plain": [
       "<Figure size 1440x720 with 5 Axes>"
      ]
     },
     "metadata": {
      "needs_background": "light"
     },
     "output_type": "display_data"
    }
   ],
   "source": [
    "fig = plt.figure(figsize=(20, 10))\n",
    "indices = np.random.choice(range(len(X_test)), 5)\n",
    "img_prediction = zip(X_test[indices], y_pred_labels[indices])\n",
    "for i, (img, pred) in enumerate(img_prediction, 1):\n",
    "    subplot = fig.add_subplot(1, 5, i)\n",
    "    plt.imshow(img[...,0], cmap='gray');\n",
    "    subplot.set_title(pred);"
   ]
  },
  {
   "cell_type": "markdown",
   "metadata": {
    "id": "WZNdJIwq3_8w"
   },
   "source": [
    "# Дополнительные материалы:\n",
    "\n",
    "1. neurohive.io https://neurohive.io/ru/vidy-nejrosetej/resnet-34-50-101/\n",
    "2. Использование предобученных архитектур для классификации https://www.kaggle.com/julichitai/asl-classification-keras\n",
    "3. Обучение сверточных нейросетей для сегментации https://www.kaggle.com/julichitai/carvana-cars-segmentation-keras\n"
   ]
  }
 ],
 "metadata": {
  "accelerator": "GPU",
  "colab": {
   "provenance": [],
   "toc_visible": true
  },
  "kernelspec": {
   "display_name": "Python 3 (ipykernel)",
   "language": "python",
   "name": "python3"
  },
  "language_info": {
   "codemirror_mode": {
    "name": "ipython",
    "version": 3
   },
   "file_extension": ".py",
   "mimetype": "text/x-python",
   "name": "python",
   "nbconvert_exporter": "python",
   "pygments_lexer": "ipython3",
   "version": "3.10.6"
  }
 },
 "nbformat": 4,
 "nbformat_minor": 1
}
